{
  "nbformat": 4,
  "nbformat_minor": 0,
  "metadata": {
    "colab": {
      "provenance": [],
      "authorship_tag": "ABX9TyPITFdsrCzxwojDS1bjWlza",
      "include_colab_link": true
    },
    "kernelspec": {
      "name": "python3",
      "display_name": "Python 3"
    },
    "language_info": {
      "name": "python"
    }
  },
  "cells": [
    {
      "cell_type": "markdown",
      "metadata": {
        "id": "view-in-github",
        "colab_type": "text"
      },
      "source": [
        "<a href=\"https://colab.research.google.com/github/Harsha77064/Rapidious-Assignment/blob/main/Healthy_Recipe_Recommendation_using_Epirecpie_Dataset.ipynb\" target=\"_parent\"><img src=\"https://colab.research.google.com/assets/colab-badge.svg\" alt=\"Open In Colab\"/></a>"
      ]
    },
    {
      "cell_type": "code",
      "execution_count": 12,
      "metadata": {
        "id": "YVj8C3OdGJZk"
      },
      "outputs": [],
      "source": [
        "import numpy as np\n",
        "import pandas as pd\n",
        "import statsmodels.api as sm\n",
        "import statsmodels.formula.api as smf\n",
        "import seaborn as sns\n",
        "from sklearn.preprocessing import scale\n",
        "from sklearn.model_selection import train_test_split, GridSearchCV, cross_val_score\n",
        "from sklearn.metrics import confusion_matrix, accuracy_score, classification_report\n",
        "from sklearn.metrics import roc_auc_score,roc_curve\n",
        "import matplotlib.pyplot as plt\n",
        "from sklearn.neighbors import KNeighborsClassifier\n",
        "from sklearn.discriminant_analysis import LinearDiscriminantAnalysis\n",
        "from sklearn.linear_model import LogisticRegression\n",
        "from sklearn.svm import SVC\n",
        "from sklearn.naive_bayes import GaussianNB\n",
        "from sklearn import tree\n",
        "from sklearn.ensemble import RandomForestClassifier\n",
        "\n",
        "from warnings import filterwarnings\n",
        "filterwarnings('ignore')\n"
      ]
    },
    {
      "cell_type": "code",
      "source": [
        "epicurious = pd.read_csv(\"epi_r.csv\")"
      ],
      "metadata": {
        "id": "dzgOEbYaKTlJ"
      },
      "execution_count": 11,
      "outputs": []
    },
    {
      "cell_type": "code",
      "source": [
        "epicurious.head(2)\n"
      ],
      "metadata": {
        "colab": {
          "base_uri": "https://localhost:8080/",
          "height": 369
        },
        "id": "oZaXj0WXKUpg",
        "outputId": "3c97ec9c-0165-4ac1-e3ed-499282194510"
      },
      "execution_count": 14,
      "outputs": [
        {
          "output_type": "execute_result",
          "data": {
            "text/plain": [
              "                                         title  rating  calories  protein  \\\n",
              "0              Lentil, Apple, and Turkey Wrap    2.500     426.0     30.0   \n",
              "1  Boudin Blanc Terrine with Red Onion Confit    4.375     403.0     18.0   \n",
              "\n",
              "    fat  sodium  #cakeweek  #wasteless  22-minute meals  3-ingredient recipes  \\\n",
              "0   7.0   559.0        0.0         0.0              0.0                   0.0   \n",
              "1  23.0  1439.0        0.0         0.0              0.0                   0.0   \n",
              "\n",
              "   ...  yellow squash  yogurt  yonkers  yuca  zucchini  cookbooks  leftovers  \\\n",
              "0  ...            0.0     0.0      0.0   0.0       0.0        0.0        0.0   \n",
              "1  ...            0.0     0.0      0.0   0.0       0.0        0.0        0.0   \n",
              "\n",
              "   snack  snack week  turkey  \n",
              "0    0.0         0.0     1.0  \n",
              "1    0.0         0.0     0.0  \n",
              "\n",
              "[2 rows x 680 columns]"
            ],
            "text/html": [
              "\n",
              "  <div id=\"df-0b004d0e-eaa9-4c1b-9da1-39c9141f8d4c\" class=\"colab-df-container\">\n",
              "    <div>\n",
              "<style scoped>\n",
              "    .dataframe tbody tr th:only-of-type {\n",
              "        vertical-align: middle;\n",
              "    }\n",
              "\n",
              "    .dataframe tbody tr th {\n",
              "        vertical-align: top;\n",
              "    }\n",
              "\n",
              "    .dataframe thead th {\n",
              "        text-align: right;\n",
              "    }\n",
              "</style>\n",
              "<table border=\"1\" class=\"dataframe\">\n",
              "  <thead>\n",
              "    <tr style=\"text-align: right;\">\n",
              "      <th></th>\n",
              "      <th>title</th>\n",
              "      <th>rating</th>\n",
              "      <th>calories</th>\n",
              "      <th>protein</th>\n",
              "      <th>fat</th>\n",
              "      <th>sodium</th>\n",
              "      <th>#cakeweek</th>\n",
              "      <th>#wasteless</th>\n",
              "      <th>22-minute meals</th>\n",
              "      <th>3-ingredient recipes</th>\n",
              "      <th>...</th>\n",
              "      <th>yellow squash</th>\n",
              "      <th>yogurt</th>\n",
              "      <th>yonkers</th>\n",
              "      <th>yuca</th>\n",
              "      <th>zucchini</th>\n",
              "      <th>cookbooks</th>\n",
              "      <th>leftovers</th>\n",
              "      <th>snack</th>\n",
              "      <th>snack week</th>\n",
              "      <th>turkey</th>\n",
              "    </tr>\n",
              "  </thead>\n",
              "  <tbody>\n",
              "    <tr>\n",
              "      <th>0</th>\n",
              "      <td>Lentil, Apple, and Turkey Wrap</td>\n",
              "      <td>2.500</td>\n",
              "      <td>426.0</td>\n",
              "      <td>30.0</td>\n",
              "      <td>7.0</td>\n",
              "      <td>559.0</td>\n",
              "      <td>0.0</td>\n",
              "      <td>0.0</td>\n",
              "      <td>0.0</td>\n",
              "      <td>0.0</td>\n",
              "      <td>...</td>\n",
              "      <td>0.0</td>\n",
              "      <td>0.0</td>\n",
              "      <td>0.0</td>\n",
              "      <td>0.0</td>\n",
              "      <td>0.0</td>\n",
              "      <td>0.0</td>\n",
              "      <td>0.0</td>\n",
              "      <td>0.0</td>\n",
              "      <td>0.0</td>\n",
              "      <td>1.0</td>\n",
              "    </tr>\n",
              "    <tr>\n",
              "      <th>1</th>\n",
              "      <td>Boudin Blanc Terrine with Red Onion Confit</td>\n",
              "      <td>4.375</td>\n",
              "      <td>403.0</td>\n",
              "      <td>18.0</td>\n",
              "      <td>23.0</td>\n",
              "      <td>1439.0</td>\n",
              "      <td>0.0</td>\n",
              "      <td>0.0</td>\n",
              "      <td>0.0</td>\n",
              "      <td>0.0</td>\n",
              "      <td>...</td>\n",
              "      <td>0.0</td>\n",
              "      <td>0.0</td>\n",
              "      <td>0.0</td>\n",
              "      <td>0.0</td>\n",
              "      <td>0.0</td>\n",
              "      <td>0.0</td>\n",
              "      <td>0.0</td>\n",
              "      <td>0.0</td>\n",
              "      <td>0.0</td>\n",
              "      <td>0.0</td>\n",
              "    </tr>\n",
              "  </tbody>\n",
              "</table>\n",
              "<p>2 rows × 680 columns</p>\n",
              "</div>\n",
              "    <div class=\"colab-df-buttons\">\n",
              "\n",
              "  <div class=\"colab-df-container\">\n",
              "    <button class=\"colab-df-convert\" onclick=\"convertToInteractive('df-0b004d0e-eaa9-4c1b-9da1-39c9141f8d4c')\"\n",
              "            title=\"Convert this dataframe to an interactive table.\"\n",
              "            style=\"display:none;\">\n",
              "\n",
              "  <svg xmlns=\"http://www.w3.org/2000/svg\" height=\"24px\" viewBox=\"0 -960 960 960\">\n",
              "    <path d=\"M120-120v-720h720v720H120Zm60-500h600v-160H180v160Zm220 220h160v-160H400v160Zm0 220h160v-160H400v160ZM180-400h160v-160H180v160Zm440 0h160v-160H620v160ZM180-180h160v-160H180v160Zm440 0h160v-160H620v160Z\"/>\n",
              "  </svg>\n",
              "    </button>\n",
              "\n",
              "  <style>\n",
              "    .colab-df-container {\n",
              "      display:flex;\n",
              "      gap: 12px;\n",
              "    }\n",
              "\n",
              "    .colab-df-convert {\n",
              "      background-color: #E8F0FE;\n",
              "      border: none;\n",
              "      border-radius: 50%;\n",
              "      cursor: pointer;\n",
              "      display: none;\n",
              "      fill: #1967D2;\n",
              "      height: 32px;\n",
              "      padding: 0 0 0 0;\n",
              "      width: 32px;\n",
              "    }\n",
              "\n",
              "    .colab-df-convert:hover {\n",
              "      background-color: #E2EBFA;\n",
              "      box-shadow: 0px 1px 2px rgba(60, 64, 67, 0.3), 0px 1px 3px 1px rgba(60, 64, 67, 0.15);\n",
              "      fill: #174EA6;\n",
              "    }\n",
              "\n",
              "    .colab-df-buttons div {\n",
              "      margin-bottom: 4px;\n",
              "    }\n",
              "\n",
              "    [theme=dark] .colab-df-convert {\n",
              "      background-color: #3B4455;\n",
              "      fill: #D2E3FC;\n",
              "    }\n",
              "\n",
              "    [theme=dark] .colab-df-convert:hover {\n",
              "      background-color: #434B5C;\n",
              "      box-shadow: 0px 1px 3px 1px rgba(0, 0, 0, 0.15);\n",
              "      filter: drop-shadow(0px 1px 2px rgba(0, 0, 0, 0.3));\n",
              "      fill: #FFFFFF;\n",
              "    }\n",
              "  </style>\n",
              "\n",
              "    <script>\n",
              "      const buttonEl =\n",
              "        document.querySelector('#df-0b004d0e-eaa9-4c1b-9da1-39c9141f8d4c button.colab-df-convert');\n",
              "      buttonEl.style.display =\n",
              "        google.colab.kernel.accessAllowed ? 'block' : 'none';\n",
              "\n",
              "      async function convertToInteractive(key) {\n",
              "        const element = document.querySelector('#df-0b004d0e-eaa9-4c1b-9da1-39c9141f8d4c');\n",
              "        const dataTable =\n",
              "          await google.colab.kernel.invokeFunction('convertToInteractive',\n",
              "                                                    [key], {});\n",
              "        if (!dataTable) return;\n",
              "\n",
              "        const docLinkHtml = 'Like what you see? Visit the ' +\n",
              "          '<a target=\"_blank\" href=https://colab.research.google.com/notebooks/data_table.ipynb>data table notebook</a>'\n",
              "          + ' to learn more about interactive tables.';\n",
              "        element.innerHTML = '';\n",
              "        dataTable['output_type'] = 'display_data';\n",
              "        await google.colab.output.renderOutput(dataTable, element);\n",
              "        const docLink = document.createElement('div');\n",
              "        docLink.innerHTML = docLinkHtml;\n",
              "        element.appendChild(docLink);\n",
              "      }\n",
              "    </script>\n",
              "  </div>\n",
              "\n",
              "\n",
              "<div id=\"df-24dd0420-990f-4c69-9f00-85ae9356ce4b\">\n",
              "  <button class=\"colab-df-quickchart\" onclick=\"quickchart('df-24dd0420-990f-4c69-9f00-85ae9356ce4b')\"\n",
              "            title=\"Suggest charts\"\n",
              "            style=\"display:none;\">\n",
              "\n",
              "<svg xmlns=\"http://www.w3.org/2000/svg\" height=\"24px\"viewBox=\"0 0 24 24\"\n",
              "     width=\"24px\">\n",
              "    <g>\n",
              "        <path d=\"M19 3H5c-1.1 0-2 .9-2 2v14c0 1.1.9 2 2 2h14c1.1 0 2-.9 2-2V5c0-1.1-.9-2-2-2zM9 17H7v-7h2v7zm4 0h-2V7h2v10zm4 0h-2v-4h2v4z\"/>\n",
              "    </g>\n",
              "</svg>\n",
              "  </button>\n",
              "\n",
              "<style>\n",
              "  .colab-df-quickchart {\n",
              "      --bg-color: #E8F0FE;\n",
              "      --fill-color: #1967D2;\n",
              "      --hover-bg-color: #E2EBFA;\n",
              "      --hover-fill-color: #174EA6;\n",
              "      --disabled-fill-color: #AAA;\n",
              "      --disabled-bg-color: #DDD;\n",
              "  }\n",
              "\n",
              "  [theme=dark] .colab-df-quickchart {\n",
              "      --bg-color: #3B4455;\n",
              "      --fill-color: #D2E3FC;\n",
              "      --hover-bg-color: #434B5C;\n",
              "      --hover-fill-color: #FFFFFF;\n",
              "      --disabled-bg-color: #3B4455;\n",
              "      --disabled-fill-color: #666;\n",
              "  }\n",
              "\n",
              "  .colab-df-quickchart {\n",
              "    background-color: var(--bg-color);\n",
              "    border: none;\n",
              "    border-radius: 50%;\n",
              "    cursor: pointer;\n",
              "    display: none;\n",
              "    fill: var(--fill-color);\n",
              "    height: 32px;\n",
              "    padding: 0;\n",
              "    width: 32px;\n",
              "  }\n",
              "\n",
              "  .colab-df-quickchart:hover {\n",
              "    background-color: var(--hover-bg-color);\n",
              "    box-shadow: 0 1px 2px rgba(60, 64, 67, 0.3), 0 1px 3px 1px rgba(60, 64, 67, 0.15);\n",
              "    fill: var(--button-hover-fill-color);\n",
              "  }\n",
              "\n",
              "  .colab-df-quickchart-complete:disabled,\n",
              "  .colab-df-quickchart-complete:disabled:hover {\n",
              "    background-color: var(--disabled-bg-color);\n",
              "    fill: var(--disabled-fill-color);\n",
              "    box-shadow: none;\n",
              "  }\n",
              "\n",
              "  .colab-df-spinner {\n",
              "    border: 2px solid var(--fill-color);\n",
              "    border-color: transparent;\n",
              "    border-bottom-color: var(--fill-color);\n",
              "    animation:\n",
              "      spin 1s steps(1) infinite;\n",
              "  }\n",
              "\n",
              "  @keyframes spin {\n",
              "    0% {\n",
              "      border-color: transparent;\n",
              "      border-bottom-color: var(--fill-color);\n",
              "      border-left-color: var(--fill-color);\n",
              "    }\n",
              "    20% {\n",
              "      border-color: transparent;\n",
              "      border-left-color: var(--fill-color);\n",
              "      border-top-color: var(--fill-color);\n",
              "    }\n",
              "    30% {\n",
              "      border-color: transparent;\n",
              "      border-left-color: var(--fill-color);\n",
              "      border-top-color: var(--fill-color);\n",
              "      border-right-color: var(--fill-color);\n",
              "    }\n",
              "    40% {\n",
              "      border-color: transparent;\n",
              "      border-right-color: var(--fill-color);\n",
              "      border-top-color: var(--fill-color);\n",
              "    }\n",
              "    60% {\n",
              "      border-color: transparent;\n",
              "      border-right-color: var(--fill-color);\n",
              "    }\n",
              "    80% {\n",
              "      border-color: transparent;\n",
              "      border-right-color: var(--fill-color);\n",
              "      border-bottom-color: var(--fill-color);\n",
              "    }\n",
              "    90% {\n",
              "      border-color: transparent;\n",
              "      border-bottom-color: var(--fill-color);\n",
              "    }\n",
              "  }\n",
              "</style>\n",
              "\n",
              "  <script>\n",
              "    async function quickchart(key) {\n",
              "      const quickchartButtonEl =\n",
              "        document.querySelector('#' + key + ' button');\n",
              "      quickchartButtonEl.disabled = true;  // To prevent multiple clicks.\n",
              "      quickchartButtonEl.classList.add('colab-df-spinner');\n",
              "      try {\n",
              "        const charts = await google.colab.kernel.invokeFunction(\n",
              "            'suggestCharts', [key], {});\n",
              "      } catch (error) {\n",
              "        console.error('Error during call to suggestCharts:', error);\n",
              "      }\n",
              "      quickchartButtonEl.classList.remove('colab-df-spinner');\n",
              "      quickchartButtonEl.classList.add('colab-df-quickchart-complete');\n",
              "    }\n",
              "    (() => {\n",
              "      let quickchartButtonEl =\n",
              "        document.querySelector('#df-24dd0420-990f-4c69-9f00-85ae9356ce4b button');\n",
              "      quickchartButtonEl.style.display =\n",
              "        google.colab.kernel.accessAllowed ? 'block' : 'none';\n",
              "    })();\n",
              "  </script>\n",
              "</div>\n",
              "\n",
              "    </div>\n",
              "  </div>\n"
            ],
            "application/vnd.google.colaboratory.intrinsic+json": {
              "type": "dataframe",
              "variable_name": "epicurious"
            }
          },
          "metadata": {},
          "execution_count": 14
        }
      ]
    },
    {
      "cell_type": "code",
      "source": [
        "epicurious.info(5)"
      ],
      "metadata": {
        "colab": {
          "base_uri": "https://localhost:8080/"
        },
        "id": "cILxioH7MQ1B",
        "outputId": "b34e7cd4-72b9-4538-8247-44923051bcf0"
      },
      "execution_count": 15,
      "outputs": [
        {
          "output_type": "stream",
          "name": "stdout",
          "text": [
            "<class 'pandas.core.frame.DataFrame'>\n",
            "RangeIndex: 20052 entries, 0 to 20051\n",
            "Data columns (total 680 columns):\n",
            " #    Column                    Dtype  \n",
            "---   ------                    -----  \n",
            " 0    title                     object \n",
            " 1    rating                    float64\n",
            " 2    calories                  float64\n",
            " 3    protein                   float64\n",
            " 4    fat                       float64\n",
            " 5    sodium                    float64\n",
            " 6    #cakeweek                 float64\n",
            " 7    #wasteless                float64\n",
            " 8    22-minute meals           float64\n",
            " 9    3-ingredient recipes      float64\n",
            " 10   30 days of groceries      float64\n",
            " 11   advance prep required     float64\n",
            " 12   alabama                   float64\n",
            " 13   alaska                    float64\n",
            " 14   alcoholic                 float64\n",
            " 15   almond                    float64\n",
            " 16   amaretto                  float64\n",
            " 17   anchovy                   float64\n",
            " 18   anise                     float64\n",
            " 19   anniversary               float64\n",
            " 20   anthony bourdain          float64\n",
            " 21   aperitif                  float64\n",
            " 22   appetizer                 float64\n",
            " 23   apple                     float64\n",
            " 24   apple juice               float64\n",
            " 25   apricot                   float64\n",
            " 26   arizona                   float64\n",
            " 27   artichoke                 float64\n",
            " 28   arugula                   float64\n",
            " 29   asian pear                float64\n",
            " 30   asparagus                 float64\n",
            " 31   aspen                     float64\n",
            " 32   atlanta                   float64\n",
            " 33   australia                 float64\n",
            " 34   avocado                   float64\n",
            " 35   back to school            float64\n",
            " 36   backyard bbq              float64\n",
            " 37   bacon                     float64\n",
            " 38   bake                      float64\n",
            " 39   banana                    float64\n",
            " 40   barley                    float64\n",
            " 41   basil                     float64\n",
            " 42   bass                      float64\n",
            " 43   bastille day              float64\n",
            " 44   bean                      float64\n",
            " 45   beef                      float64\n",
            " 46   beef rib                  float64\n",
            " 47   beef shank                float64\n",
            " 48   beef tenderloin           float64\n",
            " 49   beer                      float64\n",
            " 50   beet                      float64\n",
            " 51   bell pepper               float64\n",
            " 52   berry                     float64\n",
            " 53   beverly hills             float64\n",
            " 54   birthday                  float64\n",
            " 55   biscuit                   float64\n",
            " 56   bitters                   float64\n",
            " 57   blackberry                float64\n",
            " 58   blender                   float64\n",
            " 59   blue cheese               float64\n",
            " 60   blueberry                 float64\n",
            " 61   boil                      float64\n",
            " 62   bok choy                  float64\n",
            " 63   bon appétit               float64\n",
            " 64   bon app��tit              float64\n",
            " 65   boston                    float64\n",
            " 66   bourbon                   float64\n",
            " 67   braise                    float64\n",
            " 68   bran                      float64\n",
            " 69   brandy                    float64\n",
            " 70   bread                     float64\n",
            " 71   breadcrumbs               float64\n",
            " 72   breakfast                 float64\n",
            " 73   brie                      float64\n",
            " 74   brine                     float64\n",
            " 75   brisket                   float64\n",
            " 76   broccoli                  float64\n",
            " 77   broccoli rabe             float64\n",
            " 78   broil                     float64\n",
            " 79   brooklyn                  float64\n",
            " 80   brown rice                float64\n",
            " 81   brownie                   float64\n",
            " 82   brunch                    float64\n",
            " 83   brussel sprout            float64\n",
            " 84   buffalo                   float64\n",
            " 85   buffet                    float64\n",
            " 86   bulgaria                  float64\n",
            " 87   bulgur                    float64\n",
            " 88   burrito                   float64\n",
            " 89   butter                    float64\n",
            " 90   buttermilk                float64\n",
            " 91   butternut squash          float64\n",
            " 92   butterscotch/caramel      float64\n",
            " 93   cabbage                   float64\n",
            " 94   cake                      float64\n",
            " 95   california                float64\n",
            " 96   calvados                  float64\n",
            " 97   cambridge                 float64\n",
            " 98   campari                   float64\n",
            " 99   camping                   float64\n",
            " 100  canada                    float64\n",
            " 101  candy                     float64\n",
            " 102  candy thermometer         float64\n",
            " 103  cantaloupe                float64\n",
            " 104  capers                    float64\n",
            " 105  caraway                   float64\n",
            " 106  cardamom                  float64\n",
            " 107  carrot                    float64\n",
            " 108  cashew                    float64\n",
            " 109  casserole/gratin          float64\n",
            " 110  cauliflower               float64\n",
            " 111  caviar                    float64\n",
            " 112  celery                    float64\n",
            " 113  chambord                  float64\n",
            " 114  champagne                 float64\n",
            " 115  chard                     float64\n",
            " 116  chartreuse                float64\n",
            " 117  cheddar                   float64\n",
            " 118  cheese                    float64\n",
            " 119  cherry                    float64\n",
            " 120  chestnut                  float64\n",
            " 121  chicago                   float64\n",
            " 122  chicken                   float64\n",
            " 123  chickpea                  float64\n",
            " 124  chile                     float64\n",
            " 125  chile pepper              float64\n",
            " 126  chili                     float64\n",
            " 127  chill                     float64\n",
            " 128  chive                     float64\n",
            " 129  chocolate                 float64\n",
            " 130  christmas                 float64\n",
            " 131  christmas eve             float64\n",
            " 132  cilantro                  float64\n",
            " 133  cinco de mayo             float64\n",
            " 134  cinnamon                  float64\n",
            " 135  citrus                    float64\n",
            " 136  clam                      float64\n",
            " 137  clove                     float64\n",
            " 138  cobbler/crumble           float64\n",
            " 139  cocktail                  float64\n",
            " 140  cocktail party            float64\n",
            " 141  coconut                   float64\n",
            " 142  cod                       float64\n",
            " 143  coffee                    float64\n",
            " 144  coffee grinder            float64\n",
            " 145  cognac/armagnac           float64\n",
            " 146  collard greens            float64\n",
            " 147  colorado                  float64\n",
            " 148  columbus                  float64\n",
            " 149  condiment                 float64\n",
            " 150  condiment/spread          float64\n",
            " 151  connecticut               float64\n",
            " 152  cook like a diner         float64\n",
            " 153  cookbook critic           float64\n",
            " 154  cookie                    float64\n",
            " 155  cookies                   float64\n",
            " 156  coriander                 float64\n",
            " 157  corn                      float64\n",
            " 158  cornmeal                  float64\n",
            " 159  costa mesa                float64\n",
            " 160  cottage cheese            float64\n",
            " 161  couscous                  float64\n",
            " 162  crab                      float64\n",
            " 163  cranberry                 float64\n",
            " 164  cranberry sauce           float64\n",
            " 165  cream cheese              float64\n",
            " 166  créme de cacao            float64\n",
            " 167  crêpe                     float64\n",
            " 168  cr��me de cacao           float64\n",
            " 169  cuba                      float64\n",
            " 170  cucumber                  float64\n",
            " 171  cumin                     float64\n",
            " 172  cupcake                   float64\n",
            " 173  currant                   float64\n",
            " 174  curry                     float64\n",
            " 175  custard                   float64\n",
            " 176  dairy                     float64\n",
            " 177  dairy free                float64\n",
            " 178  dallas                    float64\n",
            " 179  date                      float64\n",
            " 180  deep-fry                  float64\n",
            " 181  denver                    float64\n",
            " 182  dessert                   float64\n",
            " 183  digestif                  float64\n",
            " 184  dill                      float64\n",
            " 185  dinner                    float64\n",
            " 186  dip                       float64\n",
            " 187  diwali                    float64\n",
            " 188  dominican republic        float64\n",
            " 189  dorie greenspan           float64\n",
            " 190  double boiler             float64\n",
            " 191  dried fruit               float64\n",
            " 192  drink                     float64\n",
            " 193  drinks                    float64\n",
            " 194  duck                      float64\n",
            " 195  easter                    float64\n",
            " 196  eau de vie                float64\n",
            " 197  edible gift               float64\n",
            " 198  egg                       float64\n",
            " 199  egg nog                   float64\n",
            " 200  eggplant                  float64\n",
            " 201  egypt                     float64\n",
            " 202  emeril lagasse            float64\n",
            " 203  endive                    float64\n",
            " 204  engagement party          float64\n",
            " 205  england                   float64\n",
            " 206  entertaining              float64\n",
            " 207  epi + ushg                float64\n",
            " 208  epi loves the microwave   float64\n",
            " 209  escarole                  float64\n",
            " 210  fall                      float64\n",
            " 211  family reunion            float64\n",
            " 212  fat free                  float64\n",
            " 213  father's day              float64\n",
            " 214  fennel                    float64\n",
            " 215  feta                      float64\n",
            " 216  fig                       float64\n",
            " 217  fish                      float64\n",
            " 218  flaming hot summer        float64\n",
            " 219  flat bread                float64\n",
            " 220  florida                   float64\n",
            " 221  fontina                   float64\n",
            " 222  food processor            float64\n",
            " 223  fortified wine            float64\n",
            " 224  fourth of july            float64\n",
            " 225  france                    float64\n",
            " 226  frangelico                float64\n",
            " 227  frankenrecipe             float64\n",
            " 228  freeze/chill              float64\n",
            " 229  freezer food              float64\n",
            " 230  friendsgiving             float64\n",
            " 231  frittata                  float64\n",
            " 232  fritter                   float64\n",
            " 233  frozen dessert            float64\n",
            " 234  fruit                     float64\n",
            " 235  fruit juice               float64\n",
            " 236  fry                       float64\n",
            " 237  game                      float64\n",
            " 238  garlic                    float64\n",
            " 239  georgia                   float64\n",
            " 240  germany                   float64\n",
            " 241  gin                       float64\n",
            " 242  ginger                    float64\n",
            " 243  goat cheese               float64\n",
            " 244  goose                     float64\n",
            " 245  gouda                     float64\n",
            " 246  gourmet                   float64\n",
            " 247  graduation                float64\n",
            " 248  grains                    float64\n",
            " 249  grand marnier             float64\n",
            " 250  granola                   float64\n",
            " 251  grape                     float64\n",
            " 252  grapefruit                float64\n",
            " 253  grappa                    float64\n",
            " 254  green bean                float64\n",
            " 255  green onion/scallion      float64\n",
            " 256  grill                     float64\n",
            " 257  grill/barbecue            float64\n",
            " 258  ground beef               float64\n",
            " 259  ground lamb               float64\n",
            " 260  guam                      float64\n",
            " 261  guava                     float64\n",
            " 262  haiti                     float64\n",
            " 263  halibut                   float64\n",
            " 264  halloween                 float64\n",
            " 265  ham                       float64\n",
            " 266  hamburger                 float64\n",
            " 267  hanukkah                  float64\n",
            " 268  harpercollins             float64\n",
            " 269  hawaii                    float64\n",
            " 270  hazelnut                  float64\n",
            " 271  healdsburg                float64\n",
            " 272  healthy                   float64\n",
            " 273  herb                      float64\n",
            " 274  high fiber                float64\n",
            " 275  hollywood                 float64\n",
            " 276  hominy/cornmeal/masa      float64\n",
            " 277  honey                     float64\n",
            " 278  honeydew                  float64\n",
            " 279  hors d'oeuvre             float64\n",
            " 280  horseradish               float64\n",
            " 281  hot drink                 float64\n",
            " 282  hot pepper                float64\n",
            " 283  house & garden            float64\n",
            " 284  house cocktail            float64\n",
            " 285  houston                   float64\n",
            " 286  hummus                    float64\n",
            " 287  ice cream                 float64\n",
            " 288  ice cream machine         float64\n",
            " 289  iced coffee               float64\n",
            " 290  iced tea                  float64\n",
            " 291  idaho                     float64\n",
            " 292  illinois                  float64\n",
            " 293  indiana                   float64\n",
            " 294  iowa                      float64\n",
            " 295  ireland                   float64\n",
            " 296  israel                    float64\n",
            " 297  italy                     float64\n",
            " 298  jalapeño                  float64\n",
            " 299  jam or jelly              float64\n",
            " 300  jamaica                   float64\n",
            " 301  japan                     float64\n",
            " 302  jerusalem artichoke       float64\n",
            " 303  juicer                    float64\n",
            " 304  jícama                    float64\n",
            " 305  kahlúa                    float64\n",
            " 306  kale                      float64\n",
            " 307  kansas                    float64\n",
            " 308  kansas city               float64\n",
            " 309  kentucky                  float64\n",
            " 310  kentucky derby            float64\n",
            " 311  kid-friendly              float64\n",
            " 312  kidney friendly           float64\n",
            " 313  kirsch                    float64\n",
            " 314  kitchen olympics          float64\n",
            " 315  kiwi                      float64\n",
            " 316  kosher                    float64\n",
            " 317  kosher for passover       float64\n",
            " 318  kumquat                   float64\n",
            " 319  kwanzaa                   float64\n",
            " 320  labor day                 float64\n",
            " 321  lamb                      float64\n",
            " 322  lamb chop                 float64\n",
            " 323  lamb shank                float64\n",
            " 324  lancaster                 float64\n",
            " 325  las vegas                 float64\n",
            " 326  lasagna                   float64\n",
            " 327  leafy green               float64\n",
            " 328  leek                      float64\n",
            " 329  legume                    float64\n",
            " 330  lemon                     float64\n",
            " 331  lemon juice               float64\n",
            " 332  lemongrass                float64\n",
            " 333  lentil                    float64\n",
            " 334  lettuce                   float64\n",
            " 335  lima bean                 float64\n",
            " 336  lime                      float64\n",
            " 337  lime juice                float64\n",
            " 338  lingonberry               float64\n",
            " 339  liqueur                   float64\n",
            " 340  lobster                   float64\n",
            " 341  london                    float64\n",
            " 342  long beach                float64\n",
            " 343  los angeles               float64\n",
            " 344  louisiana                 float64\n",
            " 345  louisville                float64\n",
            " 346  low cal                   float64\n",
            " 347  low carb                  float64\n",
            " 348  low cholesterol           float64\n",
            " 349  low fat                   float64\n",
            " 350  low sodium                float64\n",
            " 351  low sugar                 float64\n",
            " 352  low/no sugar              float64\n",
            " 353  lunar new year            float64\n",
            " 354  lunch                     float64\n",
            " 355  lychee                    float64\n",
            " 356  macadamia nut             float64\n",
            " 357  macaroni and cheese       float64\n",
            " 358  maine                     float64\n",
            " 359  mandoline                 float64\n",
            " 360  mango                     float64\n",
            " 361  maple syrup               float64\n",
            " 362  mardi gras                float64\n",
            " 363  margarita                 float64\n",
            " 364  marinade                  float64\n",
            " 365  marinate                  float64\n",
            " 366  marsala                   float64\n",
            " 367  marscarpone               float64\n",
            " 368  marshmallow               float64\n",
            " 369  martini                   float64\n",
            " 370  maryland                  float64\n",
            " 371  massachusetts             float64\n",
            " 372  mayonnaise                float64\n",
            " 373  meat                      float64\n",
            " 374  meatball                  float64\n",
            " 375  meatloaf                  float64\n",
            " 376  melon                     float64\n",
            " 377  mexico                    float64\n",
            " 378  mezcal                    float64\n",
            " 379  miami                     float64\n",
            " 380  michigan                  float64\n",
            " 381  microwave                 float64\n",
            " 382  midori                    float64\n",
            " 383  milk/cream                float64\n",
            " 384  minneapolis               float64\n",
            " 385  minnesota                 float64\n",
            " 386  mint                      float64\n",
            " 387  mississippi               float64\n",
            " 388  missouri                  float64\n",
            " 389  mixer                     float64\n",
            " 390  molasses                  float64\n",
            " 391  monterey jack             float64\n",
            " 392  mortar and pestle         float64\n",
            " 393  mother's day              float64\n",
            " 394  mozzarella                float64\n",
            " 395  muffin                    float64\n",
            " 396  mushroom                  float64\n",
            " 397  mussel                    float64\n",
            " 398  mustard                   float64\n",
            " 399  mustard greens            float64\n",
            " 400  nancy silverton           float64\n",
            " 401  nebraska                  float64\n",
            " 402  nectarine                 float64\n",
            " 403  new hampshire             float64\n",
            " 404  new jersey                float64\n",
            " 405  new mexico                float64\n",
            " 406  new orleans               float64\n",
            " 407  new year's day            float64\n",
            " 408  new year's eve            float64\n",
            " 409  new york                  float64\n",
            " 410  no meat, no problem       float64\n",
            " 411  no sugar added            float64\n",
            " 412  no-cook                   float64\n",
            " 413  non-alcoholic             float64\n",
            " 414  noodle                    float64\n",
            " 415  north carolina            float64\n",
            " 416  nut                       float64\n",
            " 417  nutmeg                    float64\n",
            " 418  oat                       float64\n",
            " 419  oatmeal                   float64\n",
            " 420  octopus                   float64\n",
            " 421  ohio                      float64\n",
            " 422  oklahoma                  float64\n",
            " 423  okra                      float64\n",
            " 424  oktoberfest               float64\n",
            " 425  olive                     float64\n",
            " 426  omelet                    float64\n",
            " 427  one-pot meal              float64\n",
            " 428  onion                     float64\n",
            " 429  orange                    float64\n",
            " 430  orange juice              float64\n",
            " 431  oregano                   float64\n",
            " 432  oregon                    float64\n",
            " 433  organic                   float64\n",
            " 434  orzo                      float64\n",
            " 435  oscars                    float64\n",
            " 436  oyster                    float64\n",
            " 437  pacific palisades         float64\n",
            " 438  paleo                     float64\n",
            " 439  pan-fry                   float64\n",
            " 440  pancake                   float64\n",
            " 441  papaya                    float64\n",
            " 442  paprika                   float64\n",
            " 443  parade                    float64\n",
            " 444  paris                     float64\n",
            " 445  parmesan                  float64\n",
            " 446  parsley                   float64\n",
            " 447  parsnip                   float64\n",
            " 448  party                     float64\n",
            " 449  pasadena                  float64\n",
            " 450  passion fruit             float64\n",
            " 451  passover                  float64\n",
            " 452  pasta                     float64\n",
            " 453  pasta maker               float64\n",
            " 454  pastry                    float64\n",
            " 455  pea                       float64\n",
            " 456  peach                     float64\n",
            " 457  peanut                    float64\n",
            " 458  peanut butter             float64\n",
            " 459  peanut free               float64\n",
            " 460  pear                      float64\n",
            " 461  pecan                     float64\n",
            " 462  pennsylvania              float64\n",
            " 463  pepper                    float64\n",
            " 464  pernod                    float64\n",
            " 465  persian new year          float64\n",
            " 466  persimmon                 float64\n",
            " 467  peru                      float64\n",
            " 468  pescatarian               float64\n",
            " 469  philippines               float64\n",
            " 470  phyllo/puff pastry dough  float64\n",
            " 471  pickles                   float64\n",
            " 472  picnic                    float64\n",
            " 473  pie                       float64\n",
            " 474  pine nut                  float64\n",
            " 475  pineapple                 float64\n",
            " 476  pistachio                 float64\n",
            " 477  pittsburgh                float64\n",
            " 478  pizza                     float64\n",
            " 479  plantain                  float64\n",
            " 480  plum                      float64\n",
            " 481  poach                     float64\n",
            " 482  poblano                   float64\n",
            " 483  poker/game night          float64\n",
            " 484  pomegranate               float64\n",
            " 485  pomegranate juice         float64\n",
            " 486  poppy                     float64\n",
            " 487  pork                      float64\n",
            " 488  pork chop                 float64\n",
            " 489  pork rib                  float64\n",
            " 490  pork tenderloin           float64\n",
            " 491  port                      float64\n",
            " 492  portland                  float64\n",
            " 493  pot pie                   float64\n",
            " 494  potato                    float64\n",
            " 495  potato salad              float64\n",
            " 496  potluck                   float64\n",
            " 497  poultry                   float64\n",
            " 498  poultry sausage           float64\n",
            " 499  pressure cooker           float64\n",
            " 500  prosciutto                float64\n",
            " 501  providence                float64\n",
            " 502  prune                     float64\n",
            " 503  pumpkin                   float64\n",
            " 504  punch                     float64\n",
            " 505  purim                     float64\n",
            " 506  quail                     float64\n",
            " 507  quiche                    float64\n",
            " 508  quick & easy              float64\n",
            " 509  quick and healthy         float64\n",
            " 510  quince                    float64\n",
            " 511  quinoa                    float64\n",
            " 512  rabbit                    float64\n",
            " 513  rack of lamb              float64\n",
            " 514  radicchio                 float64\n",
            " 515  radish                    float64\n",
            " 516  raisin                    float64\n",
            " 517  ramadan                   float64\n",
            " 518  ramekin                   float64\n",
            " 519  raspberry                 float64\n",
            " 520  raw                       float64\n",
            " 521  red wine                  float64\n",
            " 522  rhode island              float64\n",
            " 523  rhubarb                   float64\n",
            " 524  rice                      float64\n",
            " 525  ricotta                   float64\n",
            " 526  roast                     float64\n",
            " 527  root vegetable            float64\n",
            " 528  rosemary                  float64\n",
            " 529  rosh hashanah/yom kippur  float64\n",
            " 530  rosé                      float64\n",
            " 531  rub                       float64\n",
            " 532  rum                       float64\n",
            " 533  rutabaga                  float64\n",
            " 534  rye                       float64\n",
            " 535  saffron                   float64\n",
            " 536  sage                      float64\n",
            " 537  sake                      float64\n",
            " 538  salad                     float64\n",
            " 539  salad dressing            float64\n",
            " 540  salmon                    float64\n",
            " 541  salsa                     float64\n",
            " 542  san francisco             float64\n",
            " 543  sandwich                  float64\n",
            " 544  sandwich theory           float64\n",
            " 545  sangria                   float64\n",
            " 546  santa monica              float64\n",
            " 547  sardine                   float64\n",
            " 548  sauce                     float64\n",
            " 549  sausage                   float64\n",
            " 550  sauté                     float64\n",
            " 551  scallop                   float64\n",
            " 552  scotch                    float64\n",
            " 553  seafood                   float64\n",
            " 554  seattle                   float64\n",
            " 555  seed                      float64\n",
            " 556  self                      float64\n",
            " 557  semolina                  float64\n",
            " 558  sesame                    float64\n",
            " 559  sesame oil                float64\n",
            " 560  shallot                   float64\n",
            " 561  shavuot                   float64\n",
            " 562  shellfish                 float64\n",
            " 563  sherry                    float64\n",
            " 564  shower                    float64\n",
            " 565  shrimp                    float64\n",
            " 566  side                      float64\n",
            " 567  simmer                    float64\n",
            " 568  skewer                    float64\n",
            " 569  slow cooker               float64\n",
            " 570  smoker                    float64\n",
            " 571  smoothie                  float64\n",
            " 572  snapper                   float64\n",
            " 573  sorbet                    float64\n",
            " 574  soufflé/meringue          float64\n",
            " 575  soup/stew                 float64\n",
            " 576  sour cream                float64\n",
            " 577  sourdough                 float64\n",
            " 578  south carolina            float64\n",
            " 579  soy                       float64\n",
            " 580  soy free                  float64\n",
            " 581  soy sauce                 float64\n",
            " 582  spain                     float64\n",
            " 583  sparkling wine            float64\n",
            " 584  spice                     float64\n",
            " 585  spinach                   float64\n",
            " 586  spirit                    float64\n",
            " 587  spring                    float64\n",
            " 588  spritzer                  float64\n",
            " 589  squash                    float64\n",
            " 590  squid                     float64\n",
            " 591  st. louis                 float64\n",
            " 592  st. patrick's day         float64\n",
            " 593  steak                     float64\n",
            " 594  steam                     float64\n",
            " 595  stew                      float64\n",
            " 596  stir-fry                  float64\n",
            " 597  stock                     float64\n",
            " 598  strawberry                float64\n",
            " 599  stuffing/dressing         float64\n",
            " 600  sugar conscious           float64\n",
            " 601  sugar snap pea            float64\n",
            " 602  sukkot                    float64\n",
            " 603  summer                    float64\n",
            " 604  super bowl                float64\n",
            " 605  suzanne goin              float64\n",
            " 606  sweet potato/yam          float64\n",
            " 607  swiss cheese              float64\n",
            " 608  switzerland               float64\n",
            " 609  swordfish                 float64\n",
            " 610  taco                      float64\n",
            " 611  tailgating                float64\n",
            " 612  tamarind                  float64\n",
            " 613  tangerine                 float64\n",
            " 614  tapioca                   float64\n",
            " 615  tarragon                  float64\n",
            " 616  tart                      float64\n",
            " 617  tea                       float64\n",
            " 618  tennessee                 float64\n",
            " 619  tequila                   float64\n",
            " 620  tested & improved         float64\n",
            " 621  texas                     float64\n",
            " 622  thanksgiving              float64\n",
            " 623  thyme                     float64\n",
            " 624  tilapia                   float64\n",
            " 625  tofu                      float64\n",
            " 626  tomatillo                 float64\n",
            " 627  tomato                    float64\n",
            " 628  tortillas                 float64\n",
            " 629  tree nut                  float64\n",
            " 630  tree nut free             float64\n",
            " 631  triple sec                float64\n",
            " 632  tropical fruit            float64\n",
            " 633  trout                     float64\n",
            " 634  tuna                      float64\n",
            " 635  turnip                    float64\n",
            " 636  utah                      float64\n",
            " 637  valentine's day           float64\n",
            " 638  vanilla                   float64\n",
            " 639  veal                      float64\n",
            " 640  vegan                     float64\n",
            " 641  vegetable                 float64\n",
            " 642  vegetarian                float64\n",
            " 643  venison                   float64\n",
            " 644  vermont                   float64\n",
            " 645  vermouth                  float64\n",
            " 646  vinegar                   float64\n",
            " 647  virginia                  float64\n",
            " 648  vodka                     float64\n",
            " 649  waffle                    float64\n",
            " 650  walnut                    float64\n",
            " 651  wasabi                    float64\n",
            " 652  washington                float64\n",
            " 653  washington, d.c.          float64\n",
            " 654  watercress                float64\n",
            " 655  watermelon                float64\n",
            " 656  wedding                   float64\n",
            " 657  weelicious                float64\n",
            " 658  west virginia             float64\n",
            " 659  westwood                  float64\n",
            " 660  wheat/gluten-free         float64\n",
            " 661  whiskey                   float64\n",
            " 662  white wine                float64\n",
            " 663  whole wheat               float64\n",
            " 664  wild rice                 float64\n",
            " 665  windsor                   float64\n",
            " 666  wine                      float64\n",
            " 667  winter                    float64\n",
            " 668  wisconsin                 float64\n",
            " 669  wok                       float64\n",
            " 670  yellow squash             float64\n",
            " 671  yogurt                    float64\n",
            " 672  yonkers                   float64\n",
            " 673  yuca                      float64\n",
            " 674  zucchini                  float64\n",
            " 675  cookbooks                 float64\n",
            " 676  leftovers                 float64\n",
            " 677  snack                     float64\n",
            " 678  snack week                float64\n",
            " 679  turkey                    float64\n",
            "dtypes: float64(679), object(1)\n",
            "memory usage: 104.0+ MB\n"
          ]
        }
      ]
    },
    {
      "cell_type": "code",
      "source": [
        "epicurious.describe().T\n"
      ],
      "metadata": {
        "colab": {
          "base_uri": "https://localhost:8080/",
          "height": 423
        },
        "id": "ddbRJ0SEMVKY",
        "outputId": "346a5bbe-b82d-4c24-ca04-24e8f5c76a5b"
      },
      "execution_count": 16,
      "outputs": [
        {
          "output_type": "execute_result",
          "data": {
            "text/plain": [
              "              count         mean            std  min     25%      50%  \\\n",
              "rating      20052.0     3.714467       1.340829  0.0    3.75    4.375   \n",
              "calories    15935.0  6322.958017  359046.041242  0.0  198.00  331.000   \n",
              "protein     15890.0   100.160793    3840.318527  0.0    3.00    8.000   \n",
              "fat         15869.0   346.877497   20456.106859  0.0    7.00   17.000   \n",
              "sodium      15933.0  6225.974895  333318.188891  0.0   80.00  294.000   \n",
              "...             ...          ...            ...  ...     ...      ...   \n",
              "cookbooks   20052.0     0.000150       0.012231  0.0    0.00    0.000   \n",
              "leftovers   20052.0     0.000349       0.018681  0.0    0.00    0.000   \n",
              "snack       20052.0     0.001396       0.037343  0.0    0.00    0.000   \n",
              "snack week  20052.0     0.000948       0.030768  0.0    0.00    0.000   \n",
              "turkey      20052.0     0.022741       0.149080  0.0    0.00    0.000   \n",
              "\n",
              "                75%         max  \n",
              "rating        4.375         5.0  \n",
              "calories    586.000  30111218.0  \n",
              "protein      27.000    236489.0  \n",
              "fat          33.000   1722763.0  \n",
              "sodium      711.000  27675110.0  \n",
              "...             ...         ...  \n",
              "cookbooks     0.000         1.0  \n",
              "leftovers     0.000         1.0  \n",
              "snack         0.000         1.0  \n",
              "snack week    0.000         1.0  \n",
              "turkey        0.000         1.0  \n",
              "\n",
              "[679 rows x 8 columns]"
            ],
            "text/html": [
              "\n",
              "  <div id=\"df-cdbd7ec8-d43e-4fef-bc30-e0f937e65838\" class=\"colab-df-container\">\n",
              "    <div>\n",
              "<style scoped>\n",
              "    .dataframe tbody tr th:only-of-type {\n",
              "        vertical-align: middle;\n",
              "    }\n",
              "\n",
              "    .dataframe tbody tr th {\n",
              "        vertical-align: top;\n",
              "    }\n",
              "\n",
              "    .dataframe thead th {\n",
              "        text-align: right;\n",
              "    }\n",
              "</style>\n",
              "<table border=\"1\" class=\"dataframe\">\n",
              "  <thead>\n",
              "    <tr style=\"text-align: right;\">\n",
              "      <th></th>\n",
              "      <th>count</th>\n",
              "      <th>mean</th>\n",
              "      <th>std</th>\n",
              "      <th>min</th>\n",
              "      <th>25%</th>\n",
              "      <th>50%</th>\n",
              "      <th>75%</th>\n",
              "      <th>max</th>\n",
              "    </tr>\n",
              "  </thead>\n",
              "  <tbody>\n",
              "    <tr>\n",
              "      <th>rating</th>\n",
              "      <td>20052.0</td>\n",
              "      <td>3.714467</td>\n",
              "      <td>1.340829</td>\n",
              "      <td>0.0</td>\n",
              "      <td>3.75</td>\n",
              "      <td>4.375</td>\n",
              "      <td>4.375</td>\n",
              "      <td>5.0</td>\n",
              "    </tr>\n",
              "    <tr>\n",
              "      <th>calories</th>\n",
              "      <td>15935.0</td>\n",
              "      <td>6322.958017</td>\n",
              "      <td>359046.041242</td>\n",
              "      <td>0.0</td>\n",
              "      <td>198.00</td>\n",
              "      <td>331.000</td>\n",
              "      <td>586.000</td>\n",
              "      <td>30111218.0</td>\n",
              "    </tr>\n",
              "    <tr>\n",
              "      <th>protein</th>\n",
              "      <td>15890.0</td>\n",
              "      <td>100.160793</td>\n",
              "      <td>3840.318527</td>\n",
              "      <td>0.0</td>\n",
              "      <td>3.00</td>\n",
              "      <td>8.000</td>\n",
              "      <td>27.000</td>\n",
              "      <td>236489.0</td>\n",
              "    </tr>\n",
              "    <tr>\n",
              "      <th>fat</th>\n",
              "      <td>15869.0</td>\n",
              "      <td>346.877497</td>\n",
              "      <td>20456.106859</td>\n",
              "      <td>0.0</td>\n",
              "      <td>7.00</td>\n",
              "      <td>17.000</td>\n",
              "      <td>33.000</td>\n",
              "      <td>1722763.0</td>\n",
              "    </tr>\n",
              "    <tr>\n",
              "      <th>sodium</th>\n",
              "      <td>15933.0</td>\n",
              "      <td>6225.974895</td>\n",
              "      <td>333318.188891</td>\n",
              "      <td>0.0</td>\n",
              "      <td>80.00</td>\n",
              "      <td>294.000</td>\n",
              "      <td>711.000</td>\n",
              "      <td>27675110.0</td>\n",
              "    </tr>\n",
              "    <tr>\n",
              "      <th>...</th>\n",
              "      <td>...</td>\n",
              "      <td>...</td>\n",
              "      <td>...</td>\n",
              "      <td>...</td>\n",
              "      <td>...</td>\n",
              "      <td>...</td>\n",
              "      <td>...</td>\n",
              "      <td>...</td>\n",
              "    </tr>\n",
              "    <tr>\n",
              "      <th>cookbooks</th>\n",
              "      <td>20052.0</td>\n",
              "      <td>0.000150</td>\n",
              "      <td>0.012231</td>\n",
              "      <td>0.0</td>\n",
              "      <td>0.00</td>\n",
              "      <td>0.000</td>\n",
              "      <td>0.000</td>\n",
              "      <td>1.0</td>\n",
              "    </tr>\n",
              "    <tr>\n",
              "      <th>leftovers</th>\n",
              "      <td>20052.0</td>\n",
              "      <td>0.000349</td>\n",
              "      <td>0.018681</td>\n",
              "      <td>0.0</td>\n",
              "      <td>0.00</td>\n",
              "      <td>0.000</td>\n",
              "      <td>0.000</td>\n",
              "      <td>1.0</td>\n",
              "    </tr>\n",
              "    <tr>\n",
              "      <th>snack</th>\n",
              "      <td>20052.0</td>\n",
              "      <td>0.001396</td>\n",
              "      <td>0.037343</td>\n",
              "      <td>0.0</td>\n",
              "      <td>0.00</td>\n",
              "      <td>0.000</td>\n",
              "      <td>0.000</td>\n",
              "      <td>1.0</td>\n",
              "    </tr>\n",
              "    <tr>\n",
              "      <th>snack week</th>\n",
              "      <td>20052.0</td>\n",
              "      <td>0.000948</td>\n",
              "      <td>0.030768</td>\n",
              "      <td>0.0</td>\n",
              "      <td>0.00</td>\n",
              "      <td>0.000</td>\n",
              "      <td>0.000</td>\n",
              "      <td>1.0</td>\n",
              "    </tr>\n",
              "    <tr>\n",
              "      <th>turkey</th>\n",
              "      <td>20052.0</td>\n",
              "      <td>0.022741</td>\n",
              "      <td>0.149080</td>\n",
              "      <td>0.0</td>\n",
              "      <td>0.00</td>\n",
              "      <td>0.000</td>\n",
              "      <td>0.000</td>\n",
              "      <td>1.0</td>\n",
              "    </tr>\n",
              "  </tbody>\n",
              "</table>\n",
              "<p>679 rows × 8 columns</p>\n",
              "</div>\n",
              "    <div class=\"colab-df-buttons\">\n",
              "\n",
              "  <div class=\"colab-df-container\">\n",
              "    <button class=\"colab-df-convert\" onclick=\"convertToInteractive('df-cdbd7ec8-d43e-4fef-bc30-e0f937e65838')\"\n",
              "            title=\"Convert this dataframe to an interactive table.\"\n",
              "            style=\"display:none;\">\n",
              "\n",
              "  <svg xmlns=\"http://www.w3.org/2000/svg\" height=\"24px\" viewBox=\"0 -960 960 960\">\n",
              "    <path d=\"M120-120v-720h720v720H120Zm60-500h600v-160H180v160Zm220 220h160v-160H400v160Zm0 220h160v-160H400v160ZM180-400h160v-160H180v160Zm440 0h160v-160H620v160ZM180-180h160v-160H180v160Zm440 0h160v-160H620v160Z\"/>\n",
              "  </svg>\n",
              "    </button>\n",
              "\n",
              "  <style>\n",
              "    .colab-df-container {\n",
              "      display:flex;\n",
              "      gap: 12px;\n",
              "    }\n",
              "\n",
              "    .colab-df-convert {\n",
              "      background-color: #E8F0FE;\n",
              "      border: none;\n",
              "      border-radius: 50%;\n",
              "      cursor: pointer;\n",
              "      display: none;\n",
              "      fill: #1967D2;\n",
              "      height: 32px;\n",
              "      padding: 0 0 0 0;\n",
              "      width: 32px;\n",
              "    }\n",
              "\n",
              "    .colab-df-convert:hover {\n",
              "      background-color: #E2EBFA;\n",
              "      box-shadow: 0px 1px 2px rgba(60, 64, 67, 0.3), 0px 1px 3px 1px rgba(60, 64, 67, 0.15);\n",
              "      fill: #174EA6;\n",
              "    }\n",
              "\n",
              "    .colab-df-buttons div {\n",
              "      margin-bottom: 4px;\n",
              "    }\n",
              "\n",
              "    [theme=dark] .colab-df-convert {\n",
              "      background-color: #3B4455;\n",
              "      fill: #D2E3FC;\n",
              "    }\n",
              "\n",
              "    [theme=dark] .colab-df-convert:hover {\n",
              "      background-color: #434B5C;\n",
              "      box-shadow: 0px 1px 3px 1px rgba(0, 0, 0, 0.15);\n",
              "      filter: drop-shadow(0px 1px 2px rgba(0, 0, 0, 0.3));\n",
              "      fill: #FFFFFF;\n",
              "    }\n",
              "  </style>\n",
              "\n",
              "    <script>\n",
              "      const buttonEl =\n",
              "        document.querySelector('#df-cdbd7ec8-d43e-4fef-bc30-e0f937e65838 button.colab-df-convert');\n",
              "      buttonEl.style.display =\n",
              "        google.colab.kernel.accessAllowed ? 'block' : 'none';\n",
              "\n",
              "      async function convertToInteractive(key) {\n",
              "        const element = document.querySelector('#df-cdbd7ec8-d43e-4fef-bc30-e0f937e65838');\n",
              "        const dataTable =\n",
              "          await google.colab.kernel.invokeFunction('convertToInteractive',\n",
              "                                                    [key], {});\n",
              "        if (!dataTable) return;\n",
              "\n",
              "        const docLinkHtml = 'Like what you see? Visit the ' +\n",
              "          '<a target=\"_blank\" href=https://colab.research.google.com/notebooks/data_table.ipynb>data table notebook</a>'\n",
              "          + ' to learn more about interactive tables.';\n",
              "        element.innerHTML = '';\n",
              "        dataTable['output_type'] = 'display_data';\n",
              "        await google.colab.output.renderOutput(dataTable, element);\n",
              "        const docLink = document.createElement('div');\n",
              "        docLink.innerHTML = docLinkHtml;\n",
              "        element.appendChild(docLink);\n",
              "      }\n",
              "    </script>\n",
              "  </div>\n",
              "\n",
              "\n",
              "<div id=\"df-68c43521-b998-416e-b209-0d094962496b\">\n",
              "  <button class=\"colab-df-quickchart\" onclick=\"quickchart('df-68c43521-b998-416e-b209-0d094962496b')\"\n",
              "            title=\"Suggest charts\"\n",
              "            style=\"display:none;\">\n",
              "\n",
              "<svg xmlns=\"http://www.w3.org/2000/svg\" height=\"24px\"viewBox=\"0 0 24 24\"\n",
              "     width=\"24px\">\n",
              "    <g>\n",
              "        <path d=\"M19 3H5c-1.1 0-2 .9-2 2v14c0 1.1.9 2 2 2h14c1.1 0 2-.9 2-2V5c0-1.1-.9-2-2-2zM9 17H7v-7h2v7zm4 0h-2V7h2v10zm4 0h-2v-4h2v4z\"/>\n",
              "    </g>\n",
              "</svg>\n",
              "  </button>\n",
              "\n",
              "<style>\n",
              "  .colab-df-quickchart {\n",
              "      --bg-color: #E8F0FE;\n",
              "      --fill-color: #1967D2;\n",
              "      --hover-bg-color: #E2EBFA;\n",
              "      --hover-fill-color: #174EA6;\n",
              "      --disabled-fill-color: #AAA;\n",
              "      --disabled-bg-color: #DDD;\n",
              "  }\n",
              "\n",
              "  [theme=dark] .colab-df-quickchart {\n",
              "      --bg-color: #3B4455;\n",
              "      --fill-color: #D2E3FC;\n",
              "      --hover-bg-color: #434B5C;\n",
              "      --hover-fill-color: #FFFFFF;\n",
              "      --disabled-bg-color: #3B4455;\n",
              "      --disabled-fill-color: #666;\n",
              "  }\n",
              "\n",
              "  .colab-df-quickchart {\n",
              "    background-color: var(--bg-color);\n",
              "    border: none;\n",
              "    border-radius: 50%;\n",
              "    cursor: pointer;\n",
              "    display: none;\n",
              "    fill: var(--fill-color);\n",
              "    height: 32px;\n",
              "    padding: 0;\n",
              "    width: 32px;\n",
              "  }\n",
              "\n",
              "  .colab-df-quickchart:hover {\n",
              "    background-color: var(--hover-bg-color);\n",
              "    box-shadow: 0 1px 2px rgba(60, 64, 67, 0.3), 0 1px 3px 1px rgba(60, 64, 67, 0.15);\n",
              "    fill: var(--button-hover-fill-color);\n",
              "  }\n",
              "\n",
              "  .colab-df-quickchart-complete:disabled,\n",
              "  .colab-df-quickchart-complete:disabled:hover {\n",
              "    background-color: var(--disabled-bg-color);\n",
              "    fill: var(--disabled-fill-color);\n",
              "    box-shadow: none;\n",
              "  }\n",
              "\n",
              "  .colab-df-spinner {\n",
              "    border: 2px solid var(--fill-color);\n",
              "    border-color: transparent;\n",
              "    border-bottom-color: var(--fill-color);\n",
              "    animation:\n",
              "      spin 1s steps(1) infinite;\n",
              "  }\n",
              "\n",
              "  @keyframes spin {\n",
              "    0% {\n",
              "      border-color: transparent;\n",
              "      border-bottom-color: var(--fill-color);\n",
              "      border-left-color: var(--fill-color);\n",
              "    }\n",
              "    20% {\n",
              "      border-color: transparent;\n",
              "      border-left-color: var(--fill-color);\n",
              "      border-top-color: var(--fill-color);\n",
              "    }\n",
              "    30% {\n",
              "      border-color: transparent;\n",
              "      border-left-color: var(--fill-color);\n",
              "      border-top-color: var(--fill-color);\n",
              "      border-right-color: var(--fill-color);\n",
              "    }\n",
              "    40% {\n",
              "      border-color: transparent;\n",
              "      border-right-color: var(--fill-color);\n",
              "      border-top-color: var(--fill-color);\n",
              "    }\n",
              "    60% {\n",
              "      border-color: transparent;\n",
              "      border-right-color: var(--fill-color);\n",
              "    }\n",
              "    80% {\n",
              "      border-color: transparent;\n",
              "      border-right-color: var(--fill-color);\n",
              "      border-bottom-color: var(--fill-color);\n",
              "    }\n",
              "    90% {\n",
              "      border-color: transparent;\n",
              "      border-bottom-color: var(--fill-color);\n",
              "    }\n",
              "  }\n",
              "</style>\n",
              "\n",
              "  <script>\n",
              "    async function quickchart(key) {\n",
              "      const quickchartButtonEl =\n",
              "        document.querySelector('#' + key + ' button');\n",
              "      quickchartButtonEl.disabled = true;  // To prevent multiple clicks.\n",
              "      quickchartButtonEl.classList.add('colab-df-spinner');\n",
              "      try {\n",
              "        const charts = await google.colab.kernel.invokeFunction(\n",
              "            'suggestCharts', [key], {});\n",
              "      } catch (error) {\n",
              "        console.error('Error during call to suggestCharts:', error);\n",
              "      }\n",
              "      quickchartButtonEl.classList.remove('colab-df-spinner');\n",
              "      quickchartButtonEl.classList.add('colab-df-quickchart-complete');\n",
              "    }\n",
              "    (() => {\n",
              "      let quickchartButtonEl =\n",
              "        document.querySelector('#df-68c43521-b998-416e-b209-0d094962496b button');\n",
              "      quickchartButtonEl.style.display =\n",
              "        google.colab.kernel.accessAllowed ? 'block' : 'none';\n",
              "    })();\n",
              "  </script>\n",
              "</div>\n",
              "\n",
              "    </div>\n",
              "  </div>\n"
            ],
            "application/vnd.google.colaboratory.intrinsic+json": {
              "type": "dataframe",
              "summary": "{\n  \"name\": \"epicurious\",\n  \"rows\": 679,\n  \"fields\": [\n    {\n      \"column\": \"count\",\n      \"properties\": {\n        \"dtype\": \"number\",\n        \"std\": 317.4629316050811,\n        \"min\": 15869.0,\n        \"max\": 20052.0,\n        \"num_unique_values\": 5,\n        \"samples\": [\n          15935.0,\n          15933.0,\n          15890.0\n        ],\n        \"semantic_type\": \"\",\n        \"description\": \"\"\n      }\n    },\n    {\n      \"column\": \"mean\",\n      \"properties\": {\n        \"dtype\": \"number\",\n        \"std\": 340.5348530413154,\n        \"min\": 4.9870337123478956e-05,\n        \"max\": 6322.958016943834,\n        \"num_unique_values\": 338,\n        \"samples\": [\n          0.008926790345102733,\n          0.005086774386594853,\n          0.008278475962497506\n        ],\n        \"semantic_type\": \"\",\n        \"description\": \"\"\n      }\n    },\n    {\n      \"column\": \"std\",\n      \"properties\": {\n        \"dtype\": \"number\",\n        \"std\": 18802.3307072607,\n        \"min\": 0.007061893310117263,\n        \"max\": 359046.04124184983,\n        \"num_unique_values\": 374,\n        \"samples\": [\n          0.11999673358235512,\n          0.21116908764559966,\n          0.04405969989816333\n        ],\n        \"semantic_type\": \"\",\n        \"description\": \"\"\n      }\n    },\n    {\n      \"column\": \"min\",\n      \"properties\": {\n        \"dtype\": \"number\",\n        \"std\": 0.0,\n        \"min\": 0.0,\n        \"max\": 0.0,\n        \"num_unique_values\": 1,\n        \"samples\": [\n          0.0\n        ],\n        \"semantic_type\": \"\",\n        \"description\": \"\"\n      }\n    },\n    {\n      \"column\": \"25%\",\n      \"properties\": {\n        \"dtype\": \"number\",\n        \"std\": 8.19658038351122,\n        \"min\": 0.0,\n        \"max\": 198.0,\n        \"num_unique_values\": 6,\n        \"samples\": [\n          3.75\n        ],\n        \"semantic_type\": \"\",\n        \"description\": \"\"\n      }\n    },\n    {\n      \"column\": \"50%\",\n      \"properties\": {\n        \"dtype\": \"number\",\n        \"std\": 16.99116973341337,\n        \"min\": 0.0,\n        \"max\": 331.0,\n        \"num_unique_values\": 6,\n        \"samples\": [\n          4.375\n        ],\n        \"semantic_type\": \"\",\n        \"description\": \"\"\n      }\n    },\n    {\n      \"column\": \"75%\",\n      \"properties\": {\n        \"dtype\": \"number\",\n        \"std\": 35.36571292325514,\n        \"min\": 0.0,\n        \"max\": 711.0,\n        \"num_unique_values\": 7,\n        \"samples\": [\n          4.375\n        ],\n        \"semantic_type\": \"\",\n        \"description\": \"\"\n      }\n    },\n    {\n      \"column\": \"max\",\n      \"properties\": {\n        \"dtype\": \"number\",\n        \"std\": 1569606.1531466043,\n        \"min\": 1.0,\n        \"max\": 30111218.0,\n        \"num_unique_values\": 6,\n        \"samples\": [\n          5.0\n        ],\n        \"semantic_type\": \"\",\n        \"description\": \"\"\n      }\n    }\n  ]\n}"
            }
          },
          "metadata": {},
          "execution_count": 16
        }
      ]
    },
    {
      "cell_type": "code",
      "source": [
        "epicurious = epicurious[epicurious['calories'] < 10000].dropna()"
      ],
      "metadata": {
        "id": "wz0KGwGPMdAi"
      },
      "execution_count": 17,
      "outputs": []
    },
    {
      "cell_type": "code",
      "source": [
        "sns.set(style=\"darkgrid\")\n",
        "g = sns.regplot(x=\"calories\", y=\"dessert\", data=epicurious, fit_reg=False)\n",
        "g.figure.set_size_inches(5, 5)"
      ],
      "metadata": {
        "colab": {
          "base_uri": "https://localhost:8080/",
          "height": 473
        },
        "id": "Gx2X_AM3MjHx",
        "outputId": "cd004a9e-b391-457f-e13c-c3f8981ebfc7"
      },
      "execution_count": 18,
      "outputs": [
        {
          "output_type": "display_data",
          "data": {
            "text/plain": [
              "<Figure size 500x500 with 1 Axes>"
            ],
            "image/png": "[encoded data removed]"
          },
          "metadata": {}
        }
      ]
    },
    {
      "cell_type": "code",
      "source": [
        "epicurious = epicurious[:][:500]"
      ],
      "metadata": {
        "id": "ZPR35QKFMl72"
      },
      "execution_count": 19,
      "outputs": []
    },
    {
      "cell_type": "code",
      "source": [
        "epicurious.drop(\"title\", inplace = True, axis=1)\n",
        "\n",
        "y = epicurious.dessert.values\n",
        "X = epicurious.drop([\"dessert\"], axis = 1)"
      ],
      "metadata": {
        "id": "Ogc7YnRMN0Xt"
      },
      "execution_count": 20,
      "outputs": []
    },
    {
      "cell_type": "code",
      "source": [
        "epicurious['dessert'].isnull().sum()"
      ],
      "metadata": {
        "colab": {
          "base_uri": "https://localhost:8080/"
        },
        "id": "g14WVePbN2Tv",
        "outputId": "37dae95d-33f9-4071-9b67-c68ea8dd71c6"
      },
      "execution_count": 21,
      "outputs": [
        {
          "output_type": "execute_result",
          "data": {
            "text/plain": [
              "0"
            ]
          },
          "metadata": {},
          "execution_count": 21
        }
      ]
    },
    {
      "cell_type": "markdown",
      "source": [
        "**Logistic Regression**"
      ],
      "metadata": {
        "id": "inNml5zX-Btv"
      }
    },
    {
      "cell_type": "code",
      "source": [
        "model1= LogisticRegression(solver = \"liblinear\")\n",
        "loj_model = model1.fit(X,y)\n",
        "loj_model"
      ],
      "metadata": {
        "colab": {
          "base_uri": "https://localhost:8080/",
          "height": 74
        },
        "id": "HZV0epKYN8Sw",
        "outputId": "9693b8d5-11bb-466e-d9ea-249b8aff2576"
      },
      "execution_count": 28,
      "outputs": [
        {
          "output_type": "execute_result",
          "data": {
            "text/plain": [
              "LogisticRegression(solver='liblinear')"
            ],
            "text/html": [
              "<style>#sk-container-id-2 {color: black;}#sk-container-id-2 pre{padding: 0;}#sk-container-id-2 div.sk-toggleable {background-color: white;}#sk-container-id-2 label.sk-toggleable__label {cursor: pointer;display: block;width: 100%;margin-bottom: 0;padding: 0.3em;box-sizing: border-box;text-align: center;}#sk-container-id-2 label.sk-toggleable__label-arrow:before {content: \"▸\";float: left;margin-right: 0.25em;color: #696969;}#sk-container-id-2 label.sk-toggleable__label-arrow:hover:before {color: black;}#sk-container-id-2 div.sk-estimator:hover label.sk-toggleable__label-arrow:before {color: black;}#sk-container-id-2 div.sk-toggleable__content {max-height: 0;max-width: 0;overflow: hidden;text-align: left;background-color: #f0f8ff;}#sk-container-id-2 div.sk-toggleable__content pre {margin: 0.2em;color: black;border-radius: 0.25em;background-color: #f0f8ff;}#sk-container-id-2 input.sk-toggleable__control:checked~div.sk-toggleable__content {max-height: 200px;max-width: 100%;overflow: auto;}#sk-container-id-2 input.sk-toggleable__control:checked~label.sk-toggleable__label-arrow:before {content: \"▾\";}#sk-container-id-2 div.sk-estimator input.sk-toggleable__control:checked~label.sk-toggleable__label {background-color: #d4ebff;}#sk-container-id-2 div.sk-label input.sk-toggleable__control:checked~label.sk-toggleable__label {background-color: #d4ebff;}#sk-container-id-2 input.sk-hidden--visually {border: 0;clip: rect(1px 1px 1px 1px);clip: rect(1px, 1px, 1px, 1px);height: 1px;margin: -1px;overflow: hidden;padding: 0;position: absolute;width: 1px;}#sk-container-id-2 div.sk-estimator {font-family: monospace;background-color: #f0f8ff;border: 1px dotted black;border-radius: 0.25em;box-sizing: border-box;margin-bottom: 0.5em;}#sk-container-id-2 div.sk-estimator:hover {background-color: #d4ebff;}#sk-container-id-2 div.sk-parallel-item::after {content: \"\";width: 100%;border-bottom: 1px solid gray;flex-grow: 1;}#sk-container-id-2 div.sk-label:hover label.sk-toggleable__label {background-color: #d4ebff;}#sk-container-id-2 div.sk-serial::before {content: \"\";position: absolute;border-left: 1px solid gray;box-sizing: border-box;top: 0;bottom: 0;left: 50%;z-index: 0;}#sk-container-id-2 div.sk-serial {display: flex;flex-direction: column;align-items: center;background-color: white;padding-right: 0.2em;padding-left: 0.2em;position: relative;}#sk-container-id-2 div.sk-item {position: relative;z-index: 1;}#sk-container-id-2 div.sk-parallel {display: flex;align-items: stretch;justify-content: center;background-color: white;position: relative;}#sk-container-id-2 div.sk-item::before, #sk-container-id-2 div.sk-parallel-item::before {content: \"\";position: absolute;border-left: 1px solid gray;box-sizing: border-box;top: 0;bottom: 0;left: 50%;z-index: -1;}#sk-container-id-2 div.sk-parallel-item {display: flex;flex-direction: column;z-index: 1;position: relative;background-color: white;}#sk-container-id-2 div.sk-parallel-item:first-child::after {align-self: flex-end;width: 50%;}#sk-container-id-2 div.sk-parallel-item:last-child::after {align-self: flex-start;width: 50%;}#sk-container-id-2 div.sk-parallel-item:only-child::after {width: 0;}#sk-container-id-2 div.sk-dashed-wrapped {border: 1px dashed gray;margin: 0 0.4em 0.5em 0.4em;box-sizing: border-box;padding-bottom: 0.4em;background-color: white;}#sk-container-id-2 div.sk-label label {font-family: monospace;font-weight: bold;display: inline-block;line-height: 1.2em;}#sk-container-id-2 div.sk-label-container {text-align: center;}#sk-container-id-2 div.sk-container {/* jupyter's `normalize.less` sets `[hidden] { display: none; }` but bootstrap.min.css set `[hidden] { display: none !important; }` so we also need the `!important` here to be able to override the default hidden behavior on the sphinx rendered scikit-learn.org. See: https://github.com/scikit-learn/scikit-learn/issues/21755 */display: inline-block !important;position: relative;}#sk-container-id-2 div.sk-text-repr-fallback {display: none;}</style><div id=\"sk-container-id-2\" class=\"sk-top-container\"><div class=\"sk-text-repr-fallback\"><pre>LogisticRegression(solver=&#x27;liblinear&#x27;)</pre><b>In a Jupyter environment, please rerun this cell to show the HTML representation or trust the notebook. <br />On GitHub, the HTML representation is unable to render, please try loading this page with nbviewer.org.</b></div><div class=\"sk-container\" hidden><div class=\"sk-item\"><div class=\"sk-estimator sk-toggleable\"><input class=\"sk-toggleable__control sk-hidden--visually\" id=\"sk-estimator-id-2\" type=\"checkbox\" checked><label for=\"sk-estimator-id-2\" class=\"sk-toggleable__label sk-toggleable__label-arrow\">LogisticRegression</label><div class=\"sk-toggleable__content\"><pre>LogisticRegression(solver=&#x27;liblinear&#x27;)</pre></div></div></div></div></div>"
            ]
          },
          "metadata": {},
          "execution_count": 28
        }
      ]
    },
    {
      "cell_type": "code",
      "source": [
        "loj_model.intercept_      # constant value\n",
        "loj_model.coef_"
      ],
      "metadata": {
        "colab": {
          "base_uri": "https://localhost:8080/"
        },
        "id": "BgdzEfldN-4-",
        "outputId": "d8350078-1282-464b-b808-25793a8e8b74"
      },
      "execution_count": 29,
      "outputs": [
        {
          "output_type": "execute_result",
          "data": {
            "text/plain": [
              "array([[-6.98825662e-02,  8.59917045e-03, -1.33961323e-01,\n",
              "        -7.35140448e-02, -2.38251246e-03,  0.00000000e+00,\n",
              "         0.00000000e+00, -8.27125541e-04,  0.00000000e+00,\n",
              "        -2.05573553e-03,  3.01229470e-02,  0.00000000e+00,\n",
              "         0.00000000e+00, -6.28363973e-01, -1.70998310e-01,\n",
              "         3.42252331e-02,  0.00000000e+00,  1.76760011e-02,\n",
              "         2.03925837e-01,  0.00000000e+00,  0.00000000e+00,\n",
              "        -7.35986229e-01,  1.10345385e-01,  1.09449158e-01,\n",
              "        -1.64320033e-02,  0.00000000e+00, -2.39848247e-02,\n",
              "        -3.75441394e-02, -9.56292940e-03, -1.30363887e-01,\n",
              "         0.00000000e+00,  0.00000000e+00,  0.00000000e+00,\n",
              "        -5.89268428e-02,  2.21139102e-03, -2.82610950e-01,\n",
              "        -8.82683739e-02,  1.32484063e+00, -2.47737951e-01,\n",
              "         0.00000000e+00, -1.48256288e-01,  0.00000000e+00,\n",
              "        -5.74720379e-03, -8.66290046e-02, -6.85157697e-02,\n",
              "         2.58804411e-05, -1.32883137e-03, -4.21473194e-03,\n",
              "         8.90879105e-02, -5.62058638e-02, -2.42535796e-01,\n",
              "         3.44786232e-01,  0.00000000e+00,  3.49234872e-01,\n",
              "         0.00000000e+00, -1.84998037e-01,  4.95786202e-01,\n",
              "         2.92976392e-01, -5.55137675e-02,  3.99460554e-01,\n",
              "        -1.50845976e-02, -6.21107915e-03, -4.68045270e-01,\n",
              "         0.00000000e+00,  0.00000000e+00,  2.94317042e-01,\n",
              "        -1.09812955e-02, -1.56875725e-01,  1.23398178e-02,\n",
              "        -1.52664961e-01,  0.00000000e+00, -5.61191385e-01,\n",
              "        -1.16594816e-04,  0.00000000e+00, -6.72855989e-05,\n",
              "        -5.46313212e-02, -1.32524356e-02, -2.24681888e-02,\n",
              "         0.00000000e+00,  0.00000000e+00,  0.00000000e+00,\n",
              "        -1.12419921e-01, -2.36680730e-02,  0.00000000e+00,\n",
              "         5.34999117e-02,  0.00000000e+00, -8.07091272e-03,\n",
              "         0.00000000e+00,  3.06429880e-02, -2.22551331e-01,\n",
              "        -1.84198378e-01,  5.93813818e-01, -5.07003756e-02,\n",
              "         9.90451302e-01,  8.04025206e-02,  0.00000000e+00,\n",
              "         0.00000000e+00,  0.00000000e+00,  0.00000000e+00,\n",
              "         0.00000000e+00,  3.12032834e-01,  1.46495773e-01,\n",
              "         2.11198998e-01, -4.03248539e-02, -4.68783824e-03,\n",
              "         8.78871615e-02, -2.16575000e-01,  5.34631443e-02,\n",
              "        -4.91243873e-02, -2.11885696e-02,  0.00000000e+00,\n",
              "        -2.52356010e-02,  0.00000000e+00, -1.01148242e-04,\n",
              "        -6.28147153e-03,  0.00000000e+00, -1.16549521e-01,\n",
              "        -3.61305524e-01,  2.67338722e-01, -1.04187034e-01,\n",
              "         0.00000000e+00, -9.59673216e-02, -2.82987468e-02,\n",
              "         0.00000000e+00, -5.36490206e-02,  5.91951334e-09,\n",
              "         2.17477228e-01, -6.43589881e-02,  1.34239260e+00,\n",
              "         1.03919973e-01,  1.89065438e-02, -1.58673567e-01,\n",
              "         6.68870625e-02, -3.92724614e-01,  1.78007053e-01,\n",
              "         0.00000000e+00, -3.69199703e-01,  0.00000000e+00,\n",
              "        -3.98085547e-01, -6.96888760e-01,  2.44196661e-01,\n",
              "        -6.62773545e-03,  2.37508818e-01, -4.52441887e-03,\n",
              "         3.39534947e-02,  0.00000000e+00,  0.00000000e+00,\n",
              "         0.00000000e+00,  2.24383195e-01, -7.49958028e-01,\n",
              "         0.00000000e+00,  0.00000000e+00,  0.00000000e+00,\n",
              "        -1.48471154e-02,  1.41859437e-01, -4.98272991e-02,\n",
              "        -1.32600435e-01, -1.11827189e-01,  0.00000000e+00,\n",
              "         0.00000000e+00,  0.00000000e+00, -2.40235059e-02,\n",
              "         8.89048477e-02,  0.00000000e+00,  3.59265260e-01,\n",
              "         0.00000000e+00,  0.00000000e+00,  0.00000000e+00,\n",
              "         0.00000000e+00, -2.13494216e-01, -2.17104441e-02,\n",
              "         0.00000000e+00,  4.50921544e-02, -8.01132907e-03,\n",
              "         0.00000000e+00,  1.02993975e+00, -9.28163740e-02,\n",
              "        -5.28143174e-05, -4.51127977e-01, -4.01447014e-04,\n",
              "         0.00000000e+00,  0.00000000e+00, -2.94049351e-02,\n",
              "        -3.88342848e-01,  0.00000000e+00,  0.00000000e+00,\n",
              "         0.00000000e+00,  0.00000000e+00,  3.03714055e-01,\n",
              "         3.64916087e-02, -9.36179661e-01,  0.00000000e+00,\n",
              "        -8.30544208e-02,  3.90571589e-02,  0.00000000e+00,\n",
              "         0.00000000e+00,  5.76485618e-01, -1.60140410e-02,\n",
              "        -6.07624645e-02,  0.00000000e+00,  0.00000000e+00,\n",
              "        -2.53129166e-02, -6.48916590e-02,  0.00000000e+00,\n",
              "         0.00000000e+00,  0.00000000e+00,  0.00000000e+00,\n",
              "        -1.29892152e-03,  1.39046545e-01,  1.11489675e-01,\n",
              "         2.10377349e-01, -3.83945260e-02, -9.43783506e-02,\n",
              "        -1.06484528e-01,  0.00000000e+00, -5.39328045e-02,\n",
              "         0.00000000e+00,  0.00000000e+00,  3.41208005e-02,\n",
              "        -1.10730363e-02, -2.79838193e-01, -3.69456492e-02,\n",
              "        -5.24367369e-02,  0.00000000e+00,  6.60699462e-02,\n",
              "         0.00000000e+00,  1.97478125e-01,  0.00000000e+00,\n",
              "         2.35185384e-01,  0.00000000e+00,  0.00000000e+00,\n",
              "         3.93907417e-01,  7.03297457e-01,  9.90535925e-03,\n",
              "        -1.45026176e-01,  0.00000000e+00, -3.21727705e-01,\n",
              "         0.00000000e+00,  0.00000000e+00, -1.39482522e-01,\n",
              "         1.84680646e-01, -1.73988302e-01, -8.47241301e-03,\n",
              "        -6.80133083e-03, -4.42814471e-01,  0.00000000e+00,\n",
              "         1.74865482e-04,  0.00000000e+00,  0.00000000e+00,\n",
              "         1.58036861e-01,  1.72582564e-02,  0.00000000e+00,\n",
              "        -4.78641001e-02, -4.48997013e-02, -3.34626395e-01,\n",
              "        -3.53068915e-01, -2.69213492e-03,  0.00000000e+00,\n",
              "        -8.10683628e-04, -4.27849225e-02,  0.00000000e+00,\n",
              "        -2.42458897e-03,  1.24380065e-01, -4.32000574e-02,\n",
              "        -1.32883137e-03,  2.32752389e-02, -9.88010412e-02,\n",
              "         0.00000000e+00,  1.96906803e-02,  0.00000000e+00,\n",
              "        -4.58571020e-01, -4.89423956e-01, -2.42656163e-01,\n",
              "         0.00000000e+00, -7.59494608e-03,  6.44269921e-02,\n",
              "         0.00000000e+00,  0.00000000e+00, -1.05067815e-01,\n",
              "        -6.41108241e-02, -1.38856225e-01, -2.46059876e-01,\n",
              "         0.00000000e+00,  0.00000000e+00,  0.00000000e+00,\n",
              "         0.00000000e+00,  5.29780584e-02,  0.00000000e+00,\n",
              "         0.00000000e+00,  0.00000000e+00,  0.00000000e+00,\n",
              "         0.00000000e+00,  0.00000000e+00,  0.00000000e+00,\n",
              "         0.00000000e+00,  0.00000000e+00, -4.76135425e-01,\n",
              "         5.79900794e-01,  0.00000000e+00,  0.00000000e+00,\n",
              "         0.00000000e+00,  0.00000000e+00, -1.87307895e-02,\n",
              "         0.00000000e+00, -2.19295505e-03, -9.75534927e-03,\n",
              "         0.00000000e+00,  0.00000000e+00,  0.00000000e+00,\n",
              "        -3.13518127e-01,  5.08119300e-01,  5.23355931e-02,\n",
              "         0.00000000e+00,  0.00000000e+00,  2.03753873e-01,\n",
              "        -4.55652588e-02,  3.26730798e-02,  0.00000000e+00,\n",
              "         0.00000000e+00, -8.49608302e-03,  0.00000000e+00,\n",
              "         3.73924254e-07,  0.00000000e+00,  0.00000000e+00,\n",
              "         0.00000000e+00, -2.27815290e-01, -7.86439295e-02,\n",
              "        -1.06212022e-02,  1.01057254e-01, -7.77731897e-02,\n",
              "         0.00000000e+00, -8.56380747e-03, -1.48784389e-02,\n",
              "         0.00000000e+00, -2.81081223e-02, -9.57888869e-02,\n",
              "         0.00000000e+00, -1.51914317e-02, -3.54456201e-04,\n",
              "         0.00000000e+00,  0.00000000e+00,  0.00000000e+00,\n",
              "         0.00000000e+00,  0.00000000e+00, -2.71356794e-01,\n",
              "        -1.22748420e-01, -1.38586349e-01, -2.45449498e-02,\n",
              "         3.52568083e-01, -3.79031148e-02, -3.59216609e-02,\n",
              "        -6.66808828e-03, -3.07644549e-01,  0.00000000e+00,\n",
              "         0.00000000e+00,  0.00000000e+00,  0.00000000e+00,\n",
              "         0.00000000e+00, -1.45986455e-01, -9.72649386e-02,\n",
              "        -1.03678453e-01, -2.02672046e-02,  0.00000000e+00,\n",
              "        -3.48824043e-02,  0.00000000e+00,  0.00000000e+00,\n",
              "         1.06073715e-01,  0.00000000e+00,  0.00000000e+00,\n",
              "        -5.11369722e-03, -1.42771240e-01, -1.04802860e-02,\n",
              "         0.00000000e+00,  0.00000000e+00,  3.92979164e-01,\n",
              "         0.00000000e+00,  0.00000000e+00,  0.00000000e+00,\n",
              "         0.00000000e+00, -1.33402924e-02,  0.00000000e+00,\n",
              "         7.85958813e-01,  0.00000000e+00,  0.00000000e+00,\n",
              "        -2.82596114e-01,  0.00000000e+00,  0.00000000e+00,\n",
              "         5.73856339e-01, -1.53095667e-01,  0.00000000e+00,\n",
              "         0.00000000e+00,  1.94599123e-01, -1.91914155e-02,\n",
              "         0.00000000e+00, -1.12386510e-01, -1.35256759e-05,\n",
              "        -1.86978473e-01, -3.57113143e-03,  0.00000000e+00,\n",
              "         0.00000000e+00, -6.62070116e-05,  0.00000000e+00,\n",
              "         0.00000000e+00,  0.00000000e+00,  0.00000000e+00,\n",
              "         5.14024009e-02, -1.01962691e-02,  2.87603475e-02,\n",
              "         0.00000000e+00, -1.13906590e+00, -4.67856460e-01,\n",
              "        -3.07815688e-01, -7.03668006e-02,  0.00000000e+00,\n",
              "         2.74430992e-01, -4.00268013e-01, -3.57113143e-03,\n",
              "         0.00000000e+00,  0.00000000e+00,  0.00000000e+00,\n",
              "         0.00000000e+00,  0.00000000e+00, -4.19683302e-02,\n",
              "        -8.67619087e-02,  0.00000000e+00, -1.89723903e-03,\n",
              "        -6.16191646e-01, -1.22161436e-01,  0.00000000e+00,\n",
              "        -2.79009076e-02, -3.83989803e-02,  0.00000000e+00,\n",
              "         0.00000000e+00, -3.59953162e-02, -1.01148242e-04,\n",
              "         0.00000000e+00, -1.56325789e-01, -7.10090400e-02,\n",
              "        -7.31434256e-03,  1.81780166e-01, -5.28143174e-05,\n",
              "        -3.16704475e-03,  0.00000000e+00, -1.29138918e-01,\n",
              "        -1.19263932e-01, -2.29521086e-01,  2.09731395e-01,\n",
              "        -2.63972970e-03, -4.27849225e-02,  4.69023661e-03,\n",
              "        -3.14245019e-01,  0.00000000e+00, -2.03869803e-01,\n",
              "        -1.25990411e-01,  3.40322045e-01,  2.59954445e-01,\n",
              "         3.85830831e-01,  5.24680815e-01,  1.75455065e-01,\n",
              "         1.30863286e-01,  1.38994988e-01, -2.03056563e-01,\n",
              "         5.74103703e-08,  0.00000000e+00,  0.00000000e+00,\n",
              "         0.00000000e+00,  6.41200974e-01,  0.00000000e+00,\n",
              "        -2.41545529e-02,  0.00000000e+00,  1.36141886e-01,\n",
              "         0.00000000e+00,  5.70703836e-02,  3.19632159e-01,\n",
              "        -3.06348073e-01,  1.38994988e-01,  0.00000000e+00,\n",
              "        -4.13666151e-02,  4.80446502e-02, -5.22505663e-03,\n",
              "         0.00000000e+00, -8.85387029e-02,  3.85974669e-02,\n",
              "         0.00000000e+00,  0.00000000e+00, -2.12474514e-02,\n",
              "        -3.37878772e-03,  0.00000000e+00, -8.03916237e-03,\n",
              "         9.98610891e-02, -3.83989803e-02,  0.00000000e+00,\n",
              "        -4.17111255e-01,  0.00000000e+00, -1.60027046e-01,\n",
              "        -1.01518095e-01,  0.00000000e+00,  0.00000000e+00,\n",
              "        -9.86858976e-03,  0.00000000e+00,  6.91360685e-02,\n",
              "         1.51107068e-02, -4.27849225e-02,  0.00000000e+00,\n",
              "         0.00000000e+00,  0.00000000e+00, -6.27887853e-01,\n",
              "         0.00000000e+00, -6.71731206e-02, -8.56186774e-02,\n",
              "         0.00000000e+00,  0.00000000e+00,  0.00000000e+00,\n",
              "        -1.32200581e-01, -4.57318577e-01,  0.00000000e+00,\n",
              "         0.00000000e+00,  6.69241757e-01, -7.08104393e-03,\n",
              "        -2.37356500e-01,  0.00000000e+00,  0.00000000e+00,\n",
              "         1.37647809e-01, -2.31849065e-02, -2.64733800e-01,\n",
              "        -1.15055069e-01, -1.00617326e-01,  1.60749413e-02,\n",
              "         0.00000000e+00,  0.00000000e+00, -1.13336698e-01,\n",
              "        -8.10594990e-03, -3.49021198e-02, -1.28148732e-01,\n",
              "        -2.29252631e-02,  0.00000000e+00, -4.73771220e-01,\n",
              "        -1.76258626e-01, -6.75044079e-03,  0.00000000e+00,\n",
              "         0.00000000e+00, -7.37169915e-02,  0.00000000e+00,\n",
              "         0.00000000e+00, -1.05102430e-02,  0.00000000e+00,\n",
              "         6.38741670e-02, -9.76498782e-02, -3.41656433e-01,\n",
              "        -1.50505510e-04, -3.71676919e-02, -5.71913064e-03,\n",
              "         0.00000000e+00, -2.60122231e-01,  0.00000000e+00,\n",
              "         0.00000000e+00, -1.60403545e-02,  0.00000000e+00,\n",
              "        -1.96251162e-01,  1.56841233e-01, -9.43654815e-03,\n",
              "        -1.46302935e-05,  4.08571935e-02, -3.80128387e-02,\n",
              "        -1.89027973e+00, -1.34102009e-01,  0.00000000e+00,\n",
              "         0.00000000e+00,  0.00000000e+00, -2.81127833e-02,\n",
              "        -2.70718706e-03,  0.00000000e+00,  0.00000000e+00,\n",
              "        -4.04931187e-01,  3.41493813e-01,  0.00000000e+00,\n",
              "         0.00000000e+00, -1.42299793e-02,  5.94881764e-01,\n",
              "        -1.85809459e-02, -7.13486798e-03,  0.00000000e+00,\n",
              "        -6.10030905e-01, -1.35588482e-01, -3.67941709e-02,\n",
              "         8.75001387e-02,  0.00000000e+00, -1.30894110e-01,\n",
              "         0.00000000e+00,  0.00000000e+00, -3.46696245e-02,\n",
              "        -2.64319045e-03, -1.16036701e-02, -4.00972716e-05,\n",
              "        -1.42147854e-03,  0.00000000e+00,  2.87882672e-01,\n",
              "        -8.26728794e-03, -8.69082604e-01,  0.00000000e+00,\n",
              "         1.60749413e-02,  2.64103884e-01, -1.34317316e-01,\n",
              "         0.00000000e+00, -3.40516930e-01, -8.18474383e-02,\n",
              "         0.00000000e+00,  0.00000000e+00,  0.00000000e+00,\n",
              "         1.09269150e-01,  0.00000000e+00,  0.00000000e+00,\n",
              "         0.00000000e+00, -1.74665772e-02,  0.00000000e+00,\n",
              "        -8.58603949e-02,  0.00000000e+00,  3.03621533e-02,\n",
              "         0.00000000e+00, -5.28083979e-05, -2.89159501e-01,\n",
              "        -7.55461333e-02,  0.00000000e+00, -5.98468946e-03,\n",
              "        -1.36590916e-02, -4.64530691e-01, -1.56495820e-03,\n",
              "         1.14773182e-01,  3.75874865e-01, -2.02672046e-02,\n",
              "         8.67010590e-02,  0.00000000e+00, -5.51543702e-02,\n",
              "        -1.71071086e-02,  0.00000000e+00,  7.93837888e-02,\n",
              "         9.30636165e-02, -1.82128869e-02, -9.19875720e-02,\n",
              "        -8.56213156e-01, -1.57360976e-01,  0.00000000e+00,\n",
              "         0.00000000e+00,  0.00000000e+00, -2.23042585e-01,\n",
              "         0.00000000e+00, -1.30375227e-02,  0.00000000e+00,\n",
              "         1.06567685e-01, -8.53938077e-04, -1.38658781e-03,\n",
              "        -1.15987700e-01, -2.34587316e-02, -1.85440078e-02,\n",
              "         1.40766292e-01, -1.62711836e-02,  0.00000000e+00,\n",
              "         0.00000000e+00,  1.37148980e-01,  2.08257435e-02,\n",
              "         1.44836671e-01, -1.07208221e-01,  0.00000000e+00,\n",
              "         0.00000000e+00, -2.32693424e-02, -2.13953661e-01,\n",
              "        -5.58744051e-05, -5.38007944e-02, -1.19434520e-02,\n",
              "         4.60437386e-02,  0.00000000e+00,  0.00000000e+00,\n",
              "        -1.93590343e-01,  0.00000000e+00,  0.00000000e+00,\n",
              "         0.00000000e+00,  0.00000000e+00, -1.30126274e-02]])"
            ]
          },
          "metadata": {},
          "execution_count": 29
        }
      ]
    },
    {
      "cell_type": "code",
      "source": [
        "loj_model.predict(X)[0:20]"
      ],
      "metadata": {
        "colab": {
          "base_uri": "https://localhost:8080/"
        },
        "id": "VK9AZUx7uo21",
        "outputId": "5994ef5b-3c64-4137-e863-3eee4760d59d"
      },
      "execution_count": 24,
      "outputs": [
        {
          "output_type": "execute_result",
          "data": {
            "text/plain": [
              "array([0., 0., 0., 0., 0., 0., 0., 0., 1., 0., 0., 0., 1., 0., 0., 0., 0.,\n",
              "       0., 0., 0.])"
            ]
          },
          "metadata": {},
          "execution_count": 24
        }
      ]
    },
    {
      "cell_type": "code",
      "source": [
        "logit_roc_auc = roc_auc_score(y, loj_model.predict(X))\n",
        "\n",
        "fpr, tpr, thresholds = roc_curve(y, loj_model.predict_proba(X)[:,1])\n",
        "plt.figure()\n",
        "plt.plot(fpr, tpr, label='AUC (area = %0.2f)' % logit_roc_auc)\n",
        "plt.plot([0, 1], [0, 1],'r--')\n",
        "plt.xlim([0.0, 1.0])\n",
        "plt.ylim([0.0, 1.05])\n",
        "plt.xlabel('False Positive Rate')\n",
        "plt.ylabel('True Positive Rate')\n",
        "plt.title('ROC')\n",
        "plt.show()"
      ],
      "metadata": {
        "colab": {
          "base_uri": "https://localhost:8080/",
          "height": 480
        },
        "id": "p8YAsdFV9gl_",
        "outputId": "c024380a-4928-4e48-9660-dd1e2292e3b9"
      },
      "execution_count": 35,
      "outputs": [
        {
          "output_type": "display_data",
          "data": {
            "text/plain": [
              "<Figure size 640x480 with 1 Axes>"
            ],
            "image/png": "[encoded data removed]"
          },
          "metadata": {}
        }
      ]
    },
    {
      "cell_type": "code",
      "source": [
        "X_train, X_test, y_train, y_test = train_test_split(X, y,\n",
        "                                                    test_size = 0.30,\n",
        "                                                    random_state = 42)"
      ],
      "metadata": {
        "id": "8ixaZzGy-pVB"
      },
      "execution_count": 41,
      "outputs": []
    },
    {
      "cell_type": "code",
      "source": [
        "loj = LogisticRegression(solver = \"liblinear\")\n",
        "loj_model = loj.fit(X_train,y_train)\n",
        "loj_model"
      ],
      "metadata": {
        "colab": {
          "base_uri": "https://localhost:8080/",
          "height": 74
        },
        "id": "18fqFAMO-2aI",
        "outputId": "a9d71c84-01fd-458b-9906-1010b4d3e20b"
      },
      "execution_count": 42,
      "outputs": [
        {
          "output_type": "execute_result",
          "data": {
            "text/plain": [
              "LogisticRegression(solver='liblinear')"
            ],
            "text/html": [
              "<style>#sk-container-id-4 {color: black;}#sk-container-id-4 pre{padding: 0;}#sk-container-id-4 div.sk-toggleable {background-color: white;}#sk-container-id-4 label.sk-toggleable__label {cursor: pointer;display: block;width: 100%;margin-bottom: 0;padding: 0.3em;box-sizing: border-box;text-align: center;}#sk-container-id-4 label.sk-toggleable__label-arrow:before {content: \"▸\";float: left;margin-right: 0.25em;color: #696969;}#sk-container-id-4 label.sk-toggleable__label-arrow:hover:before {color: black;}#sk-container-id-4 div.sk-estimator:hover label.sk-toggleable__label-arrow:before {color: black;}#sk-container-id-4 div.sk-toggleable__content {max-height: 0;max-width: 0;overflow: hidden;text-align: left;background-color: #f0f8ff;}#sk-container-id-4 div.sk-toggleable__content pre {margin: 0.2em;color: black;border-radius: 0.25em;background-color: #f0f8ff;}#sk-container-id-4 input.sk-toggleable__control:checked~div.sk-toggleable__content {max-height: 200px;max-width: 100%;overflow: auto;}#sk-container-id-4 input.sk-toggleable__control:checked~label.sk-toggleable__label-arrow:before {content: \"▾\";}#sk-container-id-4 div.sk-estimator input.sk-toggleable__control:checked~label.sk-toggleable__label {background-color: #d4ebff;}#sk-container-id-4 div.sk-label input.sk-toggleable__control:checked~label.sk-toggleable__label {background-color: #d4ebff;}#sk-container-id-4 input.sk-hidden--visually {border: 0;clip: rect(1px 1px 1px 1px);clip: rect(1px, 1px, 1px, 1px);height: 1px;margin: -1px;overflow: hidden;padding: 0;position: absolute;width: 1px;}#sk-container-id-4 div.sk-estimator {font-family: monospace;background-color: #f0f8ff;border: 1px dotted black;border-radius: 0.25em;box-sizing: border-box;margin-bottom: 0.5em;}#sk-container-id-4 div.sk-estimator:hover {background-color: #d4ebff;}#sk-container-id-4 div.sk-parallel-item::after {content: \"\";width: 100%;border-bottom: 1px solid gray;flex-grow: 1;}#sk-container-id-4 div.sk-label:hover label.sk-toggleable__label {background-color: #d4ebff;}#sk-container-id-4 div.sk-serial::before {content: \"\";position: absolute;border-left: 1px solid gray;box-sizing: border-box;top: 0;bottom: 0;left: 50%;z-index: 0;}#sk-container-id-4 div.sk-serial {display: flex;flex-direction: column;align-items: center;background-color: white;padding-right: 0.2em;padding-left: 0.2em;position: relative;}#sk-container-id-4 div.sk-item {position: relative;z-index: 1;}#sk-container-id-4 div.sk-parallel {display: flex;align-items: stretch;justify-content: center;background-color: white;position: relative;}#sk-container-id-4 div.sk-item::before, #sk-container-id-4 div.sk-parallel-item::before {content: \"\";position: absolute;border-left: 1px solid gray;box-sizing: border-box;top: 0;bottom: 0;left: 50%;z-index: -1;}#sk-container-id-4 div.sk-parallel-item {display: flex;flex-direction: column;z-index: 1;position: relative;background-color: white;}#sk-container-id-4 div.sk-parallel-item:first-child::after {align-self: flex-end;width: 50%;}#sk-container-id-4 div.sk-parallel-item:last-child::after {align-self: flex-start;width: 50%;}#sk-container-id-4 div.sk-parallel-item:only-child::after {width: 0;}#sk-container-id-4 div.sk-dashed-wrapped {border: 1px dashed gray;margin: 0 0.4em 0.5em 0.4em;box-sizing: border-box;padding-bottom: 0.4em;background-color: white;}#sk-container-id-4 div.sk-label label {font-family: monospace;font-weight: bold;display: inline-block;line-height: 1.2em;}#sk-container-id-4 div.sk-label-container {text-align: center;}#sk-container-id-4 div.sk-container {/* jupyter's `normalize.less` sets `[hidden] { display: none; }` but bootstrap.min.css set `[hidden] { display: none !important; }` so we also need the `!important` here to be able to override the default hidden behavior on the sphinx rendered scikit-learn.org. See: https://github.com/scikit-learn/scikit-learn/issues/21755 */display: inline-block !important;position: relative;}#sk-container-id-4 div.sk-text-repr-fallback {display: none;}</style><div id=\"sk-container-id-4\" class=\"sk-top-container\"><div class=\"sk-text-repr-fallback\"><pre>LogisticRegression(solver=&#x27;liblinear&#x27;)</pre><b>In a Jupyter environment, please rerun this cell to show the HTML representation or trust the notebook. <br />On GitHub, the HTML representation is unable to render, please try loading this page with nbviewer.org.</b></div><div class=\"sk-container\" hidden><div class=\"sk-item\"><div class=\"sk-estimator sk-toggleable\"><input class=\"sk-toggleable__control sk-hidden--visually\" id=\"sk-estimator-id-4\" type=\"checkbox\" checked><label for=\"sk-estimator-id-4\" class=\"sk-toggleable__label sk-toggleable__label-arrow\">LogisticRegression</label><div class=\"sk-toggleable__content\"><pre>LogisticRegression(solver=&#x27;liblinear&#x27;)</pre></div></div></div></div></div>"
            ]
          },
          "metadata": {},
          "execution_count": 42
        }
      ]
    },
    {
      "cell_type": "code",
      "source": [
        "accuracy_score(y_test, loj_model.predict(X_test))"
      ],
      "metadata": {
        "colab": {
          "base_uri": "https://localhost:8080/"
        },
        "id": "LVqd56Ht-8kG",
        "outputId": "785b8dbb-61a7-4d87-f87b-783fd59c8d74"
      },
      "execution_count": 43,
      "outputs": [
        {
          "output_type": "execute_result",
          "data": {
            "text/plain": [
              "0.9666666666666667"
            ]
          },
          "metadata": {},
          "execution_count": 43
        }
      ]
    },
    {
      "cell_type": "code",
      "source": [
        "y_pred = loj_model.predict(X)        # predict\n",
        "confusion_matrix(y, y_pred)"
      ],
      "metadata": {
        "colab": {
          "base_uri": "https://localhost:8080/"
        },
        "id": "xgqJ7lX68ry2",
        "outputId": "4379067b-76a3-4e95-dfc1-23a3c981512a"
      },
      "execution_count": 44,
      "outputs": [
        {
          "output_type": "execute_result",
          "data": {
            "text/plain": [
              "array([[412,   0],\n",
              "       [  5,  83]])"
            ]
          },
          "metadata": {},
          "execution_count": 44
        }
      ]
    },
    {
      "cell_type": "code",
      "source": [
        "print(classification_report(y, y_pred))"
      ],
      "metadata": {
        "colab": {
          "base_uri": "https://localhost:8080/"
        },
        "id": "0oGaOW8y8u5O",
        "outputId": "4e8674ba-0660-4c92-eae4-519887aaba7b"
      },
      "execution_count": 45,
      "outputs": [
        {
          "output_type": "stream",
          "name": "stdout",
          "text": [
            "              precision    recall  f1-score   support\n",
            "\n",
            "         0.0       0.99      1.00      0.99       412\n",
            "         1.0       1.00      0.94      0.97        88\n",
            "\n",
            "    accuracy                           0.99       500\n",
            "   macro avg       0.99      0.97      0.98       500\n",
            "weighted avg       0.99      0.99      0.99       500\n",
            "\n"
          ]
        }
      ]
    },
    {
      "cell_type": "code",
      "source": [
        "cross_val_score(loj_model, X_test, y_test, cv = 10).mean()"
      ],
      "metadata": {
        "colab": {
          "base_uri": "https://localhost:8080/"
        },
        "id": "nzBedmkf_AE6",
        "outputId": "8466df8b-aa85-4229-88a5-30d0d68eac74"
      },
      "execution_count": 46,
      "outputs": [
        {
          "output_type": "execute_result",
          "data": {
            "text/plain": [
              "0.9199999999999999"
            ]
          },
          "metadata": {},
          "execution_count": 46
        }
      ]
    },
    {
      "cell_type": "markdown",
      "source": [
        "**GaussianNB**"
      ],
      "metadata": {
        "id": "MchO_ANj_t2O"
      }
    },
    {
      "cell_type": "code",
      "source": [
        "nb = GaussianNB()\n",
        "nb_model = nb.fit(X_train, y_train)\n",
        "nb_model"
      ],
      "metadata": {
        "colab": {
          "base_uri": "https://localhost:8080/",
          "height": 74
        },
        "id": "p8dSQLQt_C3o",
        "outputId": "4274ecdf-0cd3-4457-a485-9a014f4179a9"
      },
      "execution_count": 47,
      "outputs": [
        {
          "output_type": "execute_result",
          "data": {
            "text/plain": [
              "GaussianNB()"
            ],
            "text/html": [
              "<style>#sk-container-id-5 {color: black;}#sk-container-id-5 pre{padding: 0;}#sk-container-id-5 div.sk-toggleable {background-color: white;}#sk-container-id-5 label.sk-toggleable__label {cursor: pointer;display: block;width: 100%;margin-bottom: 0;padding: 0.3em;box-sizing: border-box;text-align: center;}#sk-container-id-5 label.sk-toggleable__label-arrow:before {content: \"▸\";float: left;margin-right: 0.25em;color: #696969;}#sk-container-id-5 label.sk-toggleable__label-arrow:hover:before {color: black;}#sk-container-id-5 div.sk-estimator:hover label.sk-toggleable__label-arrow:before {color: black;}#sk-container-id-5 div.sk-toggleable__content {max-height: 0;max-width: 0;overflow: hidden;text-align: left;background-color: #f0f8ff;}#sk-container-id-5 div.sk-toggleable__content pre {margin: 0.2em;color: black;border-radius: 0.25em;background-color: #f0f8ff;}#sk-container-id-5 input.sk-toggleable__control:checked~div.sk-toggleable__content {max-height: 200px;max-width: 100%;overflow: auto;}#sk-container-id-5 input.sk-toggleable__control:checked~label.sk-toggleable__label-arrow:before {content: \"▾\";}#sk-container-id-5 div.sk-estimator input.sk-toggleable__control:checked~label.sk-toggleable__label {background-color: #d4ebff;}#sk-container-id-5 div.sk-label input.sk-toggleable__control:checked~label.sk-toggleable__label {background-color: #d4ebff;}#sk-container-id-5 input.sk-hidden--visually {border: 0;clip: rect(1px 1px 1px 1px);clip: rect(1px, 1px, 1px, 1px);height: 1px;margin: -1px;overflow: hidden;padding: 0;position: absolute;width: 1px;}#sk-container-id-5 div.sk-estimator {font-family: monospace;background-color: #f0f8ff;border: 1px dotted black;border-radius: 0.25em;box-sizing: border-box;margin-bottom: 0.5em;}#sk-container-id-5 div.sk-estimator:hover {background-color: #d4ebff;}#sk-container-id-5 div.sk-parallel-item::after {content: \"\";width: 100%;border-bottom: 1px solid gray;flex-grow: 1;}#sk-container-id-5 div.sk-label:hover label.sk-toggleable__label {background-color: #d4ebff;}#sk-container-id-5 div.sk-serial::before {content: \"\";position: absolute;border-left: 1px solid gray;box-sizing: border-box;top: 0;bottom: 0;left: 50%;z-index: 0;}#sk-container-id-5 div.sk-serial {display: flex;flex-direction: column;align-items: center;background-color: white;padding-right: 0.2em;padding-left: 0.2em;position: relative;}#sk-container-id-5 div.sk-item {position: relative;z-index: 1;}#sk-container-id-5 div.sk-parallel {display: flex;align-items: stretch;justify-content: center;background-color: white;position: relative;}#sk-container-id-5 div.sk-item::before, #sk-container-id-5 div.sk-parallel-item::before {content: \"\";position: absolute;border-left: 1px solid gray;box-sizing: border-box;top: 0;bottom: 0;left: 50%;z-index: -1;}#sk-container-id-5 div.sk-parallel-item {display: flex;flex-direction: column;z-index: 1;position: relative;background-color: white;}#sk-container-id-5 div.sk-parallel-item:first-child::after {align-self: flex-end;width: 50%;}#sk-container-id-5 div.sk-parallel-item:last-child::after {align-self: flex-start;width: 50%;}#sk-container-id-5 div.sk-parallel-item:only-child::after {width: 0;}#sk-container-id-5 div.sk-dashed-wrapped {border: 1px dashed gray;margin: 0 0.4em 0.5em 0.4em;box-sizing: border-box;padding-bottom: 0.4em;background-color: white;}#sk-container-id-5 div.sk-label label {font-family: monospace;font-weight: bold;display: inline-block;line-height: 1.2em;}#sk-container-id-5 div.sk-label-container {text-align: center;}#sk-container-id-5 div.sk-container {/* jupyter's `normalize.less` sets `[hidden] { display: none; }` but bootstrap.min.css set `[hidden] { display: none !important; }` so we also need the `!important` here to be able to override the default hidden behavior on the sphinx rendered scikit-learn.org. See: https://github.com/scikit-learn/scikit-learn/issues/21755 */display: inline-block !important;position: relative;}#sk-container-id-5 div.sk-text-repr-fallback {display: none;}</style><div id=\"sk-container-id-5\" class=\"sk-top-container\"><div class=\"sk-text-repr-fallback\"><pre>GaussianNB()</pre><b>In a Jupyter environment, please rerun this cell to show the HTML representation or trust the notebook. <br />On GitHub, the HTML representation is unable to render, please try loading this page with nbviewer.org.</b></div><div class=\"sk-container\" hidden><div class=\"sk-item\"><div class=\"sk-estimator sk-toggleable\"><input class=\"sk-toggleable__control sk-hidden--visually\" id=\"sk-estimator-id-5\" type=\"checkbox\" checked><label for=\"sk-estimator-id-5\" class=\"sk-toggleable__label sk-toggleable__label-arrow\">GaussianNB</label><div class=\"sk-toggleable__content\"><pre>GaussianNB()</pre></div></div></div></div></div>"
            ]
          },
          "metadata": {},
          "execution_count": 47
        }
      ]
    },
    {
      "cell_type": "code",
      "source": [
        "nb_model.predict(X_test)[0:20]"
      ],
      "metadata": {
        "colab": {
          "base_uri": "https://localhost:8080/"
        },
        "id": "ozLjPhCR_VHD",
        "outputId": "52d75db6-f5b4-4686-e176-10ff88e85287"
      },
      "execution_count": 48,
      "outputs": [
        {
          "output_type": "execute_result",
          "data": {
            "text/plain": [
              "array([0., 0., 0., 0., 0., 0., 0., 0., 0., 0., 0., 0., 1., 1., 0., 0., 0.,\n",
              "       0., 0., 0.])"
            ]
          },
          "metadata": {},
          "execution_count": 48
        }
      ]
    },
    {
      "cell_type": "code",
      "source": [
        "nb_model.predict_proba(X_test)[0:10]"
      ],
      "metadata": {
        "colab": {
          "base_uri": "https://localhost:8080/"
        },
        "id": "y6KziW7P_Yop",
        "outputId": "c582f03d-ecc2-468c-89d2-d671800dcae7"
      },
      "execution_count": 50,
      "outputs": [
        {
          "output_type": "execute_result",
          "data": {
            "text/plain": [
              "array([[1.00000000e+000, 0.00000000e+000],\n",
              "       [1.00000000e+000, 0.00000000e+000],\n",
              "       [1.00000000e+000, 0.00000000e+000],\n",
              "       [1.00000000e+000, 0.00000000e+000],\n",
              "       [1.00000000e+000, 6.32353549e-295],\n",
              "       [1.00000000e+000, 0.00000000e+000],\n",
              "       [1.00000000e+000, 0.00000000e+000],\n",
              "       [1.00000000e+000, 1.25607727e-166],\n",
              "       [1.00000000e+000, 0.00000000e+000],\n",
              "       [1.00000000e+000, 0.00000000e+000]])"
            ]
          },
          "metadata": {},
          "execution_count": 50
        }
      ]
    },
    {
      "cell_type": "code",
      "source": [
        "y_pred = nb_model.predict(X_test)\n",
        "accuracy_score(y_test, y_pred)"
      ],
      "metadata": {
        "colab": {
          "base_uri": "https://localhost:8080/"
        },
        "id": "HjdZdgV5_aYk",
        "outputId": "67e7c93b-81a8-4f6e-c939-37d317459616"
      },
      "execution_count": 51,
      "outputs": [
        {
          "output_type": "execute_result",
          "data": {
            "text/plain": [
              "0.94"
            ]
          },
          "metadata": {},
          "execution_count": 51
        }
      ]
    },
    {
      "cell_type": "code",
      "source": [
        "cross_val_score(nb_model, X_test, y_test, cv = 10).mean()"
      ],
      "metadata": {
        "colab": {
          "base_uri": "https://localhost:8080/"
        },
        "id": "qMome9U1_dNn",
        "outputId": "d26c6dc8-7c4c-42e3-e24a-553b6eefeac4"
      },
      "execution_count": 52,
      "outputs": [
        {
          "output_type": "execute_result",
          "data": {
            "text/plain": [
              "0.78"
            ]
          },
          "metadata": {},
          "execution_count": 52
        }
      ]
    },
    {
      "cell_type": "markdown",
      "source": [
        "**KNN**"
      ],
      "metadata": {
        "id": "IsY7lmpv_zzI"
      }
    },
    {
      "cell_type": "code",
      "source": [
        "knn = KNeighborsClassifier()\n",
        "knn_model = knn.fit(X_train, y_train)\n",
        "knn_model"
      ],
      "metadata": {
        "colab": {
          "base_uri": "https://localhost:8080/",
          "height": 74
        },
        "id": "eSe1j4CJ_fAE",
        "outputId": "821e1cbc-bc20-42ee-893f-0687c17f1ab3"
      },
      "execution_count": 53,
      "outputs": [
        {
          "output_type": "execute_result",
          "data": {
            "text/plain": [
              "KNeighborsClassifier()"
            ],
            "text/html": [
              "<style>#sk-container-id-6 {color: black;}#sk-container-id-6 pre{padding: 0;}#sk-container-id-6 div.sk-toggleable {background-color: white;}#sk-container-id-6 label.sk-toggleable__label {cursor: pointer;display: block;width: 100%;margin-bottom: 0;padding: 0.3em;box-sizing: border-box;text-align: center;}#sk-container-id-6 label.sk-toggleable__label-arrow:before {content: \"▸\";float: left;margin-right: 0.25em;color: #696969;}#sk-container-id-6 label.sk-toggleable__label-arrow:hover:before {color: black;}#sk-container-id-6 div.sk-estimator:hover label.sk-toggleable__label-arrow:before {color: black;}#sk-container-id-6 div.sk-toggleable__content {max-height: 0;max-width: 0;overflow: hidden;text-align: left;background-color: #f0f8ff;}#sk-container-id-6 div.sk-toggleable__content pre {margin: 0.2em;color: black;border-radius: 0.25em;background-color: #f0f8ff;}#sk-container-id-6 input.sk-toggleable__control:checked~div.sk-toggleable__content {max-height: 200px;max-width: 100%;overflow: auto;}#sk-container-id-6 input.sk-toggleable__control:checked~label.sk-toggleable__label-arrow:before {content: \"▾\";}#sk-container-id-6 div.sk-estimator input.sk-toggleable__control:checked~label.sk-toggleable__label {background-color: #d4ebff;}#sk-container-id-6 div.sk-label input.sk-toggleable__control:checked~label.sk-toggleable__label {background-color: #d4ebff;}#sk-container-id-6 input.sk-hidden--visually {border: 0;clip: rect(1px 1px 1px 1px);clip: rect(1px, 1px, 1px, 1px);height: 1px;margin: -1px;overflow: hidden;padding: 0;position: absolute;width: 1px;}#sk-container-id-6 div.sk-estimator {font-family: monospace;background-color: #f0f8ff;border: 1px dotted black;border-radius: 0.25em;box-sizing: border-box;margin-bottom: 0.5em;}#sk-container-id-6 div.sk-estimator:hover {background-color: #d4ebff;}#sk-container-id-6 div.sk-parallel-item::after {content: \"\";width: 100%;border-bottom: 1px solid gray;flex-grow: 1;}#sk-container-id-6 div.sk-label:hover label.sk-toggleable__label {background-color: #d4ebff;}#sk-container-id-6 div.sk-serial::before {content: \"\";position: absolute;border-left: 1px solid gray;box-sizing: border-box;top: 0;bottom: 0;left: 50%;z-index: 0;}#sk-container-id-6 div.sk-serial {display: flex;flex-direction: column;align-items: center;background-color: white;padding-right: 0.2em;padding-left: 0.2em;position: relative;}#sk-container-id-6 div.sk-item {position: relative;z-index: 1;}#sk-container-id-6 div.sk-parallel {display: flex;align-items: stretch;justify-content: center;background-color: white;position: relative;}#sk-container-id-6 div.sk-item::before, #sk-container-id-6 div.sk-parallel-item::before {content: \"\";position: absolute;border-left: 1px solid gray;box-sizing: border-box;top: 0;bottom: 0;left: 50%;z-index: -1;}#sk-container-id-6 div.sk-parallel-item {display: flex;flex-direction: column;z-index: 1;position: relative;background-color: white;}#sk-container-id-6 div.sk-parallel-item:first-child::after {align-self: flex-end;width: 50%;}#sk-container-id-6 div.sk-parallel-item:last-child::after {align-self: flex-start;width: 50%;}#sk-container-id-6 div.sk-parallel-item:only-child::after {width: 0;}#sk-container-id-6 div.sk-dashed-wrapped {border: 1px dashed gray;margin: 0 0.4em 0.5em 0.4em;box-sizing: border-box;padding-bottom: 0.4em;background-color: white;}#sk-container-id-6 div.sk-label label {font-family: monospace;font-weight: bold;display: inline-block;line-height: 1.2em;}#sk-container-id-6 div.sk-label-container {text-align: center;}#sk-container-id-6 div.sk-container {/* jupyter's `normalize.less` sets `[hidden] { display: none; }` but bootstrap.min.css set `[hidden] { display: none !important; }` so we also need the `!important` here to be able to override the default hidden behavior on the sphinx rendered scikit-learn.org. See: https://github.com/scikit-learn/scikit-learn/issues/21755 */display: inline-block !important;position: relative;}#sk-container-id-6 div.sk-text-repr-fallback {display: none;}</style><div id=\"sk-container-id-6\" class=\"sk-top-container\"><div class=\"sk-text-repr-fallback\"><pre>KNeighborsClassifier()</pre><b>In a Jupyter environment, please rerun this cell to show the HTML representation or trust the notebook. <br />On GitHub, the HTML representation is unable to render, please try loading this page with nbviewer.org.</b></div><div class=\"sk-container\" hidden><div class=\"sk-item\"><div class=\"sk-estimator sk-toggleable\"><input class=\"sk-toggleable__control sk-hidden--visually\" id=\"sk-estimator-id-6\" type=\"checkbox\" checked><label for=\"sk-estimator-id-6\" class=\"sk-toggleable__label sk-toggleable__label-arrow\">KNeighborsClassifier</label><div class=\"sk-toggleable__content\"><pre>KNeighborsClassifier()</pre></div></div></div></div></div>"
            ]
          },
          "metadata": {},
          "execution_count": 53
        }
      ]
    },
    {
      "cell_type": "code",
      "source": [
        "y_pred = knn_model.predict(X_test)\n",
        "accuracy_score(y_test, y_pred)"
      ],
      "metadata": {
        "colab": {
          "base_uri": "https://localhost:8080/"
        },
        "id": "AZaSsLT1_4Na",
        "outputId": "74c6c23a-77e2-4be1-b5c7-00c2a1845d0c"
      },
      "execution_count": 54,
      "outputs": [
        {
          "output_type": "execute_result",
          "data": {
            "text/plain": [
              "0.7533333333333333"
            ]
          },
          "metadata": {},
          "execution_count": 54
        }
      ]
    },
    {
      "cell_type": "code",
      "source": [
        "print(classification_report(y_test, y_pred))"
      ],
      "metadata": {
        "colab": {
          "base_uri": "https://localhost:8080/"
        },
        "id": "A9thcmks_55a",
        "outputId": "19b15856-20ee-4685-9dad-2ab8680f516b"
      },
      "execution_count": 55,
      "outputs": [
        {
          "output_type": "stream",
          "name": "stdout",
          "text": [
            "              precision    recall  f1-score   support\n",
            "\n",
            "         0.0       0.82      0.89      0.85       122\n",
            "         1.0       0.26      0.18      0.21        28\n",
            "\n",
            "    accuracy                           0.75       150\n",
            "   macro avg       0.54      0.53      0.53       150\n",
            "weighted avg       0.72      0.75      0.73       150\n",
            "\n"
          ]
        }
      ]
    },
    {
      "cell_type": "code",
      "source": [
        "knn_params = {\"n_neighbors\": np.arange(1,50)}"
      ],
      "metadata": {
        "id": "KE1UqB8n_8FR"
      },
      "execution_count": 56,
      "outputs": []
    },
    {
      "cell_type": "code",
      "source": [
        "knn = KNeighborsClassifier()\n",
        "knn_cv = GridSearchCV(knn, knn_params, cv=10)\n",
        "knn_cv.fit(X_train, y_train)"
      ],
      "metadata": {
        "colab": {
          "base_uri": "https://localhost:8080/",
          "height": 116
        },
        "id": "I7KCHj5b_-aS",
        "outputId": "d865960c-4d54-4444-e262-956d797d58af"
      },
      "execution_count": 57,
      "outputs": [
        {
          "output_type": "execute_result",
          "data": {
            "text/plain": [
              "GridSearchCV(cv=10, estimator=KNeighborsClassifier(),\n",
              "             param_grid={'n_neighbors': array([ 1,  2,  3,  4,  5,  6,  7,  8,  9, 10, 11, 12, 13, 14, 15, 16, 17,\n",
              "       18, 19, 20, 21, 22, 23, 24, 25, 26, 27, 28, 29, 30, 31, 32, 33, 34,\n",
              "       35, 36, 37, 38, 39, 40, 41, 42, 43, 44, 45, 46, 47, 48, 49])})"
            ],
            "text/html": [
              "<style>#sk-container-id-7 {color: black;}#sk-container-id-7 pre{padding: 0;}#sk-container-id-7 div.sk-toggleable {background-color: white;}#sk-container-id-7 label.sk-toggleable__label {cursor: pointer;display: block;width: 100%;margin-bottom: 0;padding: 0.3em;box-sizing: border-box;text-align: center;}#sk-container-id-7 label.sk-toggleable__label-arrow:before {content: \"▸\";float: left;margin-right: 0.25em;color: #696969;}#sk-container-id-7 label.sk-toggleable__label-arrow:hover:before {color: black;}#sk-container-id-7 div.sk-estimator:hover label.sk-toggleable__label-arrow:before {color: black;}#sk-container-id-7 div.sk-toggleable__content {max-height: 0;max-width: 0;overflow: hidden;text-align: left;background-color: #f0f8ff;}#sk-container-id-7 div.sk-toggleable__content pre {margin: 0.2em;color: black;border-radius: 0.25em;background-color: #f0f8ff;}#sk-container-id-7 input.sk-toggleable__control:checked~div.sk-toggleable__content {max-height: 200px;max-width: 100%;overflow: auto;}#sk-container-id-7 input.sk-toggleable__control:checked~label.sk-toggleable__label-arrow:before {content: \"▾\";}#sk-container-id-7 div.sk-estimator input.sk-toggleable__control:checked~label.sk-toggleable__label {background-color: #d4ebff;}#sk-container-id-7 div.sk-label input.sk-toggleable__control:checked~label.sk-toggleable__label {background-color: #d4ebff;}#sk-container-id-7 input.sk-hidden--visually {border: 0;clip: rect(1px 1px 1px 1px);clip: rect(1px, 1px, 1px, 1px);height: 1px;margin: -1px;overflow: hidden;padding: 0;position: absolute;width: 1px;}#sk-container-id-7 div.sk-estimator {font-family: monospace;background-color: #f0f8ff;border: 1px dotted black;border-radius: 0.25em;box-sizing: border-box;margin-bottom: 0.5em;}#sk-container-id-7 div.sk-estimator:hover {background-color: #d4ebff;}#sk-container-id-7 div.sk-parallel-item::after {content: \"\";width: 100%;border-bottom: 1px solid gray;flex-grow: 1;}#sk-container-id-7 div.sk-label:hover label.sk-toggleable__label {background-color: #d4ebff;}#sk-container-id-7 div.sk-serial::before {content: \"\";position: absolute;border-left: 1px solid gray;box-sizing: border-box;top: 0;bottom: 0;left: 50%;z-index: 0;}#sk-container-id-7 div.sk-serial {display: flex;flex-direction: column;align-items: center;background-color: white;padding-right: 0.2em;padding-left: 0.2em;position: relative;}#sk-container-id-7 div.sk-item {position: relative;z-index: 1;}#sk-container-id-7 div.sk-parallel {display: flex;align-items: stretch;justify-content: center;background-color: white;position: relative;}#sk-container-id-7 div.sk-item::before, #sk-container-id-7 div.sk-parallel-item::before {content: \"\";position: absolute;border-left: 1px solid gray;box-sizing: border-box;top: 0;bottom: 0;left: 50%;z-index: -1;}#sk-container-id-7 div.sk-parallel-item {display: flex;flex-direction: column;z-index: 1;position: relative;background-color: white;}#sk-container-id-7 div.sk-parallel-item:first-child::after {align-self: flex-end;width: 50%;}#sk-container-id-7 div.sk-parallel-item:last-child::after {align-self: flex-start;width: 50%;}#sk-container-id-7 div.sk-parallel-item:only-child::after {width: 0;}#sk-container-id-7 div.sk-dashed-wrapped {border: 1px dashed gray;margin: 0 0.4em 0.5em 0.4em;box-sizing: border-box;padding-bottom: 0.4em;background-color: white;}#sk-container-id-7 div.sk-label label {font-family: monospace;font-weight: bold;display: inline-block;line-height: 1.2em;}#sk-container-id-7 div.sk-label-container {text-align: center;}#sk-container-id-7 div.sk-container {/* jupyter's `normalize.less` sets `[hidden] { display: none; }` but bootstrap.min.css set `[hidden] { display: none !important; }` so we also need the `!important` here to be able to override the default hidden behavior on the sphinx rendered scikit-learn.org. See: https://github.com/scikit-learn/scikit-learn/issues/21755 */display: inline-block !important;position: relative;}#sk-container-id-7 div.sk-text-repr-fallback {display: none;}</style><div id=\"sk-container-id-7\" class=\"sk-top-container\"><div class=\"sk-text-repr-fallback\"><pre>GridSearchCV(cv=10, estimator=KNeighborsClassifier(),\n",
              "             param_grid={&#x27;n_neighbors&#x27;: array([ 1,  2,  3,  4,  5,  6,  7,  8,  9, 10, 11, 12, 13, 14, 15, 16, 17,\n",
              "       18, 19, 20, 21, 22, 23, 24, 25, 26, 27, 28, 29, 30, 31, 32, 33, 34,\n",
              "       35, 36, 37, 38, 39, 40, 41, 42, 43, 44, 45, 46, 47, 48, 49])})</pre><b>In a Jupyter environment, please rerun this cell to show the HTML representation or trust the notebook. <br />On GitHub, the HTML representation is unable to render, please try loading this page with nbviewer.org.</b></div><div class=\"sk-container\" hidden><div class=\"sk-item sk-dashed-wrapped\"><div class=\"sk-label-container\"><div class=\"sk-label sk-toggleable\"><input class=\"sk-toggleable__control sk-hidden--visually\" id=\"sk-estimator-id-7\" type=\"checkbox\" ><label for=\"sk-estimator-id-7\" class=\"sk-toggleable__label sk-toggleable__label-arrow\">GridSearchCV</label><div class=\"sk-toggleable__content\"><pre>GridSearchCV(cv=10, estimator=KNeighborsClassifier(),\n",
              "             param_grid={&#x27;n_neighbors&#x27;: array([ 1,  2,  3,  4,  5,  6,  7,  8,  9, 10, 11, 12, 13, 14, 15, 16, 17,\n",
              "       18, 19, 20, 21, 22, 23, 24, 25, 26, 27, 28, 29, 30, 31, 32, 33, 34,\n",
              "       35, 36, 37, 38, 39, 40, 41, 42, 43, 44, 45, 46, 47, 48, 49])})</pre></div></div></div><div class=\"sk-parallel\"><div class=\"sk-parallel-item\"><div class=\"sk-item\"><div class=\"sk-label-container\"><div class=\"sk-label sk-toggleable\"><input class=\"sk-toggleable__control sk-hidden--visually\" id=\"sk-estimator-id-8\" type=\"checkbox\" ><label for=\"sk-estimator-id-8\" class=\"sk-toggleable__label sk-toggleable__label-arrow\">estimator: KNeighborsClassifier</label><div class=\"sk-toggleable__content\"><pre>KNeighborsClassifier()</pre></div></div></div><div class=\"sk-serial\"><div class=\"sk-item\"><div class=\"sk-estimator sk-toggleable\"><input class=\"sk-toggleable__control sk-hidden--visually\" id=\"sk-estimator-id-9\" type=\"checkbox\" ><label for=\"sk-estimator-id-9\" class=\"sk-toggleable__label sk-toggleable__label-arrow\">KNeighborsClassifier</label><div class=\"sk-toggleable__content\"><pre>KNeighborsClassifier()</pre></div></div></div></div></div></div></div></div></div></div>"
            ]
          },
          "metadata": {},
          "execution_count": 57
        }
      ]
    },
    {
      "cell_type": "code",
      "source": [
        "print(\"Best score:\" + str(knn_cv.best_score_))\n",
        "print(\"Best parameters: \" + str(knn_cv.best_params_))"
      ],
      "metadata": {
        "colab": {
          "base_uri": "https://localhost:8080/"
        },
        "id": "ozF_hDJcAAZp",
        "outputId": "1f44485e-b411-45ac-9829-beb6afb5712c"
      },
      "execution_count": 60,
      "outputs": [
        {
          "output_type": "stream",
          "name": "stdout",
          "text": [
            "Best score:0.8400000000000001\n",
            "Best parameters: {'n_neighbors': 4}\n"
          ]
        }
      ]
    },
    {
      "cell_type": "code",
      "source": [
        "knn = KNeighborsClassifier(4)\n",
        "knn_tuned = knn.fit(X_train, y_train)\n",
        "knn_tuned.score(X_test, y_test)"
      ],
      "metadata": {
        "colab": {
          "base_uri": "https://localhost:8080/"
        },
        "id": "aeL3h7zyAHTo",
        "outputId": "4619ce1c-7da6-4576-9237-d919815e7fa1"
      },
      "execution_count": 61,
      "outputs": [
        {
          "output_type": "execute_result",
          "data": {
            "text/plain": [
              "0.7866666666666666"
            ]
          },
          "metadata": {},
          "execution_count": 61
        }
      ]
    },
    {
      "cell_type": "code",
      "source": [
        "y_pred = knn_tuned.predict(X_test)\n",
        "accuracy_score(y_test, y_pred)"
      ],
      "metadata": {
        "colab": {
          "base_uri": "https://localhost:8080/"
        },
        "id": "07HmRbiPATHs",
        "outputId": "7fead1aa-ca08-4f0d-d594-4d5b8ff2f63a"
      },
      "execution_count": 62,
      "outputs": [
        {
          "output_type": "execute_result",
          "data": {
            "text/plain": [
              "0.7866666666666666"
            ]
          },
          "metadata": {},
          "execution_count": 62
        }
      ]
    },
    {
      "cell_type": "markdown",
      "source": [
        "**Random Forest**"
      ],
      "metadata": {
        "id": "EM7gfxPWAWcn"
      }
    },
    {
      "cell_type": "code",
      "source": [
        "rf_model = RandomForestClassifier().fit(X_train, y_train)\n",
        "rf_model"
      ],
      "metadata": {
        "colab": {
          "base_uri": "https://localhost:8080/",
          "height": 74
        },
        "id": "t_ei9rrYAVNS",
        "outputId": "a8027c6c-4884-4aaf-c373-0127caa56c95"
      },
      "execution_count": 63,
      "outputs": [
        {
          "output_type": "execute_result",
          "data": {
            "text/plain": [
              "RandomForestClassifier()"
            ],
            "text/html": [
              "<style>#sk-container-id-8 {color: black;}#sk-container-id-8 pre{padding: 0;}#sk-container-id-8 div.sk-toggleable {background-color: white;}#sk-container-id-8 label.sk-toggleable__label {cursor: pointer;display: block;width: 100%;margin-bottom: 0;padding: 0.3em;box-sizing: border-box;text-align: center;}#sk-container-id-8 label.sk-toggleable__label-arrow:before {content: \"▸\";float: left;margin-right: 0.25em;color: #696969;}#sk-container-id-8 label.sk-toggleable__label-arrow:hover:before {color: black;}#sk-container-id-8 div.sk-estimator:hover label.sk-toggleable__label-arrow:before {color: black;}#sk-container-id-8 div.sk-toggleable__content {max-height: 0;max-width: 0;overflow: hidden;text-align: left;background-color: #f0f8ff;}#sk-container-id-8 div.sk-toggleable__content pre {margin: 0.2em;color: black;border-radius: 0.25em;background-color: #f0f8ff;}#sk-container-id-8 input.sk-toggleable__control:checked~div.sk-toggleable__content {max-height: 200px;max-width: 100%;overflow: auto;}#sk-container-id-8 input.sk-toggleable__control:checked~label.sk-toggleable__label-arrow:before {content: \"▾\";}#sk-container-id-8 div.sk-estimator input.sk-toggleable__control:checked~label.sk-toggleable__label {background-color: #d4ebff;}#sk-container-id-8 div.sk-label input.sk-toggleable__control:checked~label.sk-toggleable__label {background-color: #d4ebff;}#sk-container-id-8 input.sk-hidden--visually {border: 0;clip: rect(1px 1px 1px 1px);clip: rect(1px, 1px, 1px, 1px);height: 1px;margin: -1px;overflow: hidden;padding: 0;position: absolute;width: 1px;}#sk-container-id-8 div.sk-estimator {font-family: monospace;background-color: #f0f8ff;border: 1px dotted black;border-radius: 0.25em;box-sizing: border-box;margin-bottom: 0.5em;}#sk-container-id-8 div.sk-estimator:hover {background-color: #d4ebff;}#sk-container-id-8 div.sk-parallel-item::after {content: \"\";width: 100%;border-bottom: 1px solid gray;flex-grow: 1;}#sk-container-id-8 div.sk-label:hover label.sk-toggleable__label {background-color: #d4ebff;}#sk-container-id-8 div.sk-serial::before {content: \"\";position: absolute;border-left: 1px solid gray;box-sizing: border-box;top: 0;bottom: 0;left: 50%;z-index: 0;}#sk-container-id-8 div.sk-serial {display: flex;flex-direction: column;align-items: center;background-color: white;padding-right: 0.2em;padding-left: 0.2em;position: relative;}#sk-container-id-8 div.sk-item {position: relative;z-index: 1;}#sk-container-id-8 div.sk-parallel {display: flex;align-items: stretch;justify-content: center;background-color: white;position: relative;}#sk-container-id-8 div.sk-item::before, #sk-container-id-8 div.sk-parallel-item::before {content: \"\";position: absolute;border-left: 1px solid gray;box-sizing: border-box;top: 0;bottom: 0;left: 50%;z-index: -1;}#sk-container-id-8 div.sk-parallel-item {display: flex;flex-direction: column;z-index: 1;position: relative;background-color: white;}#sk-container-id-8 div.sk-parallel-item:first-child::after {align-self: flex-end;width: 50%;}#sk-container-id-8 div.sk-parallel-item:last-child::after {align-self: flex-start;width: 50%;}#sk-container-id-8 div.sk-parallel-item:only-child::after {width: 0;}#sk-container-id-8 div.sk-dashed-wrapped {border: 1px dashed gray;margin: 0 0.4em 0.5em 0.4em;box-sizing: border-box;padding-bottom: 0.4em;background-color: white;}#sk-container-id-8 div.sk-label label {font-family: monospace;font-weight: bold;display: inline-block;line-height: 1.2em;}#sk-container-id-8 div.sk-label-container {text-align: center;}#sk-container-id-8 div.sk-container {/* jupyter's `normalize.less` sets `[hidden] { display: none; }` but bootstrap.min.css set `[hidden] { display: none !important; }` so we also need the `!important` here to be able to override the default hidden behavior on the sphinx rendered scikit-learn.org. See: https://github.com/scikit-learn/scikit-learn/issues/21755 */display: inline-block !important;position: relative;}#sk-container-id-8 div.sk-text-repr-fallback {display: none;}</style><div id=\"sk-container-id-8\" class=\"sk-top-container\"><div class=\"sk-text-repr-fallback\"><pre>RandomForestClassifier()</pre><b>In a Jupyter environment, please rerun this cell to show the HTML representation or trust the notebook. <br />On GitHub, the HTML representation is unable to render, please try loading this page with nbviewer.org.</b></div><div class=\"sk-container\" hidden><div class=\"sk-item\"><div class=\"sk-estimator sk-toggleable\"><input class=\"sk-toggleable__control sk-hidden--visually\" id=\"sk-estimator-id-10\" type=\"checkbox\" checked><label for=\"sk-estimator-id-10\" class=\"sk-toggleable__label sk-toggleable__label-arrow\">RandomForestClassifier</label><div class=\"sk-toggleable__content\"><pre>RandomForestClassifier()</pre></div></div></div></div></div>"
            ]
          },
          "metadata": {},
          "execution_count": 63
        }
      ]
    },
    {
      "cell_type": "code",
      "source": [
        "y_pred = rf_model.predict(X_test)\n",
        "accuracy_score(y_test, y_pred)"
      ],
      "metadata": {
        "colab": {
          "base_uri": "https://localhost:8080/"
        },
        "id": "wFnLloXhAem4",
        "outputId": "d81bd6c3-feaf-47bd-efbd-f756d53136c9"
      },
      "execution_count": 64,
      "outputs": [
        {
          "output_type": "execute_result",
          "data": {
            "text/plain": [
              "0.94"
            ]
          },
          "metadata": {},
          "execution_count": 64
        }
      ]
    },
    {
      "cell_type": "code",
      "source": [
        "rf_params = {\"max_depth\": [2,5,8,10],\n",
        "            \"max_features\": [2,5,8],\n",
        "            \"n_estimators\": [10,500,1000],\n",
        "            \"min_samples_split\": [2,5,10]}"
      ],
      "metadata": {
        "id": "5feUYlejAxQe"
      },
      "execution_count": 65,
      "outputs": []
    },
    {
      "cell_type": "code",
      "source": [
        "rf_model = RandomForestClassifier()\n",
        "\n",
        "rf_cv_model = GridSearchCV(rf_model,\n",
        "                           rf_params,\n",
        "                           cv = 10,\n",
        "                           n_jobs = -1,\n",
        "                           verbose = 2)"
      ],
      "metadata": {
        "id": "plObOlK3Az1u"
      },
      "execution_count": 66,
      "outputs": []
    },
    {
      "cell_type": "code",
      "source": [
        "rf_cv_model.fit(X_train, y_train)"
      ],
      "metadata": {
        "colab": {
          "base_uri": "https://localhost:8080/",
          "height": 133
        },
        "id": "ZmMquA0SA1ae",
        "outputId": "6c5f7351-84f0-4040-bd93-949456936056"
      },
      "execution_count": 69,
      "outputs": [
        {
          "output_type": "stream",
          "name": "stdout",
          "text": [
            "Fitting 10 folds for each of 108 candidates, totalling 1080 fits\n"
          ]
        },
        {
          "output_type": "execute_result",
          "data": {
            "text/plain": [
              "GridSearchCV(cv=10, estimator=RandomForestClassifier(), n_jobs=-1,\n",
              "             param_grid={'max_depth': [2, 5, 8, 10], 'max_features': [2, 5, 8],\n",
              "                         'min_samples_split': [2, 5, 10],\n",
              "                         'n_estimators': [10, 500, 1000]},\n",
              "             verbose=2)"
            ],
            "text/html": [
              "<style>#sk-container-id-9 {color: black;}#sk-container-id-9 pre{padding: 0;}#sk-container-id-9 div.sk-toggleable {background-color: white;}#sk-container-id-9 label.sk-toggleable__label {cursor: pointer;display: block;width: 100%;margin-bottom: 0;padding: 0.3em;box-sizing: border-box;text-align: center;}#sk-container-id-9 label.sk-toggleable__label-arrow:before {content: \"▸\";float: left;margin-right: 0.25em;color: #696969;}#sk-container-id-9 label.sk-toggleable__label-arrow:hover:before {color: black;}#sk-container-id-9 div.sk-estimator:hover label.sk-toggleable__label-arrow:before {color: black;}#sk-container-id-9 div.sk-toggleable__content {max-height: 0;max-width: 0;overflow: hidden;text-align: left;background-color: #f0f8ff;}#sk-container-id-9 div.sk-toggleable__content pre {margin: 0.2em;color: black;border-radius: 0.25em;background-color: #f0f8ff;}#sk-container-id-9 input.sk-toggleable__control:checked~div.sk-toggleable__content {max-height: 200px;max-width: 100%;overflow: auto;}#sk-container-id-9 input.sk-toggleable__control:checked~label.sk-toggleable__label-arrow:before {content: \"▾\";}#sk-container-id-9 div.sk-estimator input.sk-toggleable__control:checked~label.sk-toggleable__label {background-color: #d4ebff;}#sk-container-id-9 div.sk-label input.sk-toggleable__control:checked~label.sk-toggleable__label {background-color: #d4ebff;}#sk-container-id-9 input.sk-hidden--visually {border: 0;clip: rect(1px 1px 1px 1px);clip: rect(1px, 1px, 1px, 1px);height: 1px;margin: -1px;overflow: hidden;padding: 0;position: absolute;width: 1px;}#sk-container-id-9 div.sk-estimator {font-family: monospace;background-color: #f0f8ff;border: 1px dotted black;border-radius: 0.25em;box-sizing: border-box;margin-bottom: 0.5em;}#sk-container-id-9 div.sk-estimator:hover {background-color: #d4ebff;}#sk-container-id-9 div.sk-parallel-item::after {content: \"\";width: 100%;border-bottom: 1px solid gray;flex-grow: 1;}#sk-container-id-9 div.sk-label:hover label.sk-toggleable__label {background-color: #d4ebff;}#sk-container-id-9 div.sk-serial::before {content: \"\";position: absolute;border-left: 1px solid gray;box-sizing: border-box;top: 0;bottom: 0;left: 50%;z-index: 0;}#sk-container-id-9 div.sk-serial {display: flex;flex-direction: column;align-items: center;background-color: white;padding-right: 0.2em;padding-left: 0.2em;position: relative;}#sk-container-id-9 div.sk-item {position: relative;z-index: 1;}#sk-container-id-9 div.sk-parallel {display: flex;align-items: stretch;justify-content: center;background-color: white;position: relative;}#sk-container-id-9 div.sk-item::before, #sk-container-id-9 div.sk-parallel-item::before {content: \"\";position: absolute;border-left: 1px solid gray;box-sizing: border-box;top: 0;bottom: 0;left: 50%;z-index: -1;}#sk-container-id-9 div.sk-parallel-item {display: flex;flex-direction: column;z-index: 1;position: relative;background-color: white;}#sk-container-id-9 div.sk-parallel-item:first-child::after {align-self: flex-end;width: 50%;}#sk-container-id-9 div.sk-parallel-item:last-child::after {align-self: flex-start;width: 50%;}#sk-container-id-9 div.sk-parallel-item:only-child::after {width: 0;}#sk-container-id-9 div.sk-dashed-wrapped {border: 1px dashed gray;margin: 0 0.4em 0.5em 0.4em;box-sizing: border-box;padding-bottom: 0.4em;background-color: white;}#sk-container-id-9 div.sk-label label {font-family: monospace;font-weight: bold;display: inline-block;line-height: 1.2em;}#sk-container-id-9 div.sk-label-container {text-align: center;}#sk-container-id-9 div.sk-container {/* jupyter's `normalize.less` sets `[hidden] { display: none; }` but bootstrap.min.css set `[hidden] { display: none !important; }` so we also need the `!important` here to be able to override the default hidden behavior on the sphinx rendered scikit-learn.org. See: https://github.com/scikit-learn/scikit-learn/issues/21755 */display: inline-block !important;position: relative;}#sk-container-id-9 div.sk-text-repr-fallback {display: none;}</style><div id=\"sk-container-id-9\" class=\"sk-top-container\"><div class=\"sk-text-repr-fallback\"><pre>GridSearchCV(cv=10, estimator=RandomForestClassifier(), n_jobs=-1,\n",
              "             param_grid={&#x27;max_depth&#x27;: [2, 5, 8, 10], &#x27;max_features&#x27;: [2, 5, 8],\n",
              "                         &#x27;min_samples_split&#x27;: [2, 5, 10],\n",
              "                         &#x27;n_estimators&#x27;: [10, 500, 1000]},\n",
              "             verbose=2)</pre><b>In a Jupyter environment, please rerun this cell to show the HTML representation or trust the notebook. <br />On GitHub, the HTML representation is unable to render, please try loading this page with nbviewer.org.</b></div><div class=\"sk-container\" hidden><div class=\"sk-item sk-dashed-wrapped\"><div class=\"sk-label-container\"><div class=\"sk-label sk-toggleable\"><input class=\"sk-toggleable__control sk-hidden--visually\" id=\"sk-estimator-id-11\" type=\"checkbox\" ><label for=\"sk-estimator-id-11\" class=\"sk-toggleable__label sk-toggleable__label-arrow\">GridSearchCV</label><div class=\"sk-toggleable__content\"><pre>GridSearchCV(cv=10, estimator=RandomForestClassifier(), n_jobs=-1,\n",
              "             param_grid={&#x27;max_depth&#x27;: [2, 5, 8, 10], &#x27;max_features&#x27;: [2, 5, 8],\n",
              "                         &#x27;min_samples_split&#x27;: [2, 5, 10],\n",
              "                         &#x27;n_estimators&#x27;: [10, 500, 1000]},\n",
              "             verbose=2)</pre></div></div></div><div class=\"sk-parallel\"><div class=\"sk-parallel-item\"><div class=\"sk-item\"><div class=\"sk-label-container\"><div class=\"sk-label sk-toggleable\"><input class=\"sk-toggleable__control sk-hidden--visually\" id=\"sk-estimator-id-12\" type=\"checkbox\" ><label for=\"sk-estimator-id-12\" class=\"sk-toggleable__label sk-toggleable__label-arrow\">estimator: RandomForestClassifier</label><div class=\"sk-toggleable__content\"><pre>RandomForestClassifier()</pre></div></div></div><div class=\"sk-serial\"><div class=\"sk-item\"><div class=\"sk-estimator sk-toggleable\"><input class=\"sk-toggleable__control sk-hidden--visually\" id=\"sk-estimator-id-13\" type=\"checkbox\" ><label for=\"sk-estimator-id-13\" class=\"sk-toggleable__label sk-toggleable__label-arrow\">RandomForestClassifier</label><div class=\"sk-toggleable__content\"><pre>RandomForestClassifier()</pre></div></div></div></div></div></div></div></div></div></div>"
            ]
          },
          "metadata": {},
          "execution_count": 69
        }
      ]
    },
    {
      "cell_type": "code",
      "source": [
        "rf_tuned = RandomForestClassifier(max_depth = 8,\n",
        "                                  max_features = 8,\n",
        "                                  min_samples_split = 5,\n",
        "                                  n_estimators = 10)\n",
        "\n",
        "rf_tuned.fit(X_train, y_train)"
      ],
      "metadata": {
        "colab": {
          "base_uri": "https://localhost:8080/",
          "height": 91
        },
        "id": "4uF0dqD4A5TH",
        "outputId": "45b161fe-fe24-4fa5-dc9b-2e55b0c5f286"
      },
      "execution_count": 70,
      "outputs": [
        {
          "output_type": "execute_result",
          "data": {
            "text/plain": [
              "RandomForestClassifier(max_depth=8, max_features=8, min_samples_split=5,\n",
              "                       n_estimators=10)"
            ],
            "text/html": [
              "<style>#sk-container-id-10 {color: black;}#sk-container-id-10 pre{padding: 0;}#sk-container-id-10 div.sk-toggleable {background-color: white;}#sk-container-id-10 label.sk-toggleable__label {cursor: pointer;display: block;width: 100%;margin-bottom: 0;padding: 0.3em;box-sizing: border-box;text-align: center;}#sk-container-id-10 label.sk-toggleable__label-arrow:before {content: \"▸\";float: left;margin-right: 0.25em;color: #696969;}#sk-container-id-10 label.sk-toggleable__label-arrow:hover:before {color: black;}#sk-container-id-10 div.sk-estimator:hover label.sk-toggleable__label-arrow:before {color: black;}#sk-container-id-10 div.sk-toggleable__content {max-height: 0;max-width: 0;overflow: hidden;text-align: left;background-color: #f0f8ff;}#sk-container-id-10 div.sk-toggleable__content pre {margin: 0.2em;color: black;border-radius: 0.25em;background-color: #f0f8ff;}#sk-container-id-10 input.sk-toggleable__control:checked~div.sk-toggleable__content {max-height: 200px;max-width: 100%;overflow: auto;}#sk-container-id-10 input.sk-toggleable__control:checked~label.sk-toggleable__label-arrow:before {content: \"▾\";}#sk-container-id-10 div.sk-estimator input.sk-toggleable__control:checked~label.sk-toggleable__label {background-color: #d4ebff;}#sk-container-id-10 div.sk-label input.sk-toggleable__control:checked~label.sk-toggleable__label {background-color: #d4ebff;}#sk-container-id-10 input.sk-hidden--visually {border: 0;clip: rect(1px 1px 1px 1px);clip: rect(1px, 1px, 1px, 1px);height: 1px;margin: -1px;overflow: hidden;padding: 0;position: absolute;width: 1px;}#sk-container-id-10 div.sk-estimator {font-family: monospace;background-color: #f0f8ff;border: 1px dotted black;border-radius: 0.25em;box-sizing: border-box;margin-bottom: 0.5em;}#sk-container-id-10 div.sk-estimator:hover {background-color: #d4ebff;}#sk-container-id-10 div.sk-parallel-item::after {content: \"\";width: 100%;border-bottom: 1px solid gray;flex-grow: 1;}#sk-container-id-10 div.sk-label:hover label.sk-toggleable__label {background-color: #d4ebff;}#sk-container-id-10 div.sk-serial::before {content: \"\";position: absolute;border-left: 1px solid gray;box-sizing: border-box;top: 0;bottom: 0;left: 50%;z-index: 0;}#sk-container-id-10 div.sk-serial {display: flex;flex-direction: column;align-items: center;background-color: white;padding-right: 0.2em;padding-left: 0.2em;position: relative;}#sk-container-id-10 div.sk-item {position: relative;z-index: 1;}#sk-container-id-10 div.sk-parallel {display: flex;align-items: stretch;justify-content: center;background-color: white;position: relative;}#sk-container-id-10 div.sk-item::before, #sk-container-id-10 div.sk-parallel-item::before {content: \"\";position: absolute;border-left: 1px solid gray;box-sizing: border-box;top: 0;bottom: 0;left: 50%;z-index: -1;}#sk-container-id-10 div.sk-parallel-item {display: flex;flex-direction: column;z-index: 1;position: relative;background-color: white;}#sk-container-id-10 div.sk-parallel-item:first-child::after {align-self: flex-end;width: 50%;}#sk-container-id-10 div.sk-parallel-item:last-child::after {align-self: flex-start;width: 50%;}#sk-container-id-10 div.sk-parallel-item:only-child::after {width: 0;}#sk-container-id-10 div.sk-dashed-wrapped {border: 1px dashed gray;margin: 0 0.4em 0.5em 0.4em;box-sizing: border-box;padding-bottom: 0.4em;background-color: white;}#sk-container-id-10 div.sk-label label {font-family: monospace;font-weight: bold;display: inline-block;line-height: 1.2em;}#sk-container-id-10 div.sk-label-container {text-align: center;}#sk-container-id-10 div.sk-container {/* jupyter's `normalize.less` sets `[hidden] { display: none; }` but bootstrap.min.css set `[hidden] { display: none !important; }` so we also need the `!important` here to be able to override the default hidden behavior on the sphinx rendered scikit-learn.org. See: https://github.com/scikit-learn/scikit-learn/issues/21755 */display: inline-block !important;position: relative;}#sk-container-id-10 div.sk-text-repr-fallback {display: none;}</style><div id=\"sk-container-id-10\" class=\"sk-top-container\"><div class=\"sk-text-repr-fallback\"><pre>RandomForestClassifier(max_depth=8, max_features=8, min_samples_split=5,\n",
              "                       n_estimators=10)</pre><b>In a Jupyter environment, please rerun this cell to show the HTML representation or trust the notebook. <br />On GitHub, the HTML representation is unable to render, please try loading this page with nbviewer.org.</b></div><div class=\"sk-container\" hidden><div class=\"sk-item\"><div class=\"sk-estimator sk-toggleable\"><input class=\"sk-toggleable__control sk-hidden--visually\" id=\"sk-estimator-id-14\" type=\"checkbox\" checked><label for=\"sk-estimator-id-14\" class=\"sk-toggleable__label sk-toggleable__label-arrow\">RandomForestClassifier</label><div class=\"sk-toggleable__content\"><pre>RandomForestClassifier(max_depth=8, max_features=8, min_samples_split=5,\n",
              "                       n_estimators=10)</pre></div></div></div></div></div>"
            ]
          },
          "metadata": {},
          "execution_count": 70
        }
      ]
    },
    {
      "cell_type": "code",
      "source": [
        "y_pred = rf_tuned.predict(X_test)\n",
        "accuracy_score(y_test, y_pred)"
      ],
      "metadata": {
        "colab": {
          "base_uri": "https://localhost:8080/"
        },
        "id": "k2riQkKSBFSV",
        "outputId": "6f24ad9f-dcfc-4c8a-c93d-d2b37f8706ff"
      },
      "execution_count": 71,
      "outputs": [
        {
          "output_type": "execute_result",
          "data": {
            "text/plain": [
              "0.82"
            ]
          },
          "metadata": {},
          "execution_count": 71
        }
      ]
    },
    {
      "cell_type": "code",
      "source": [
        "# prompt: code for SVC\n",
        "\n",
        "# SVC\n",
        "svm_model = SVC(kernel = \"linear\").fit(X_train, y_train)\n",
        "svm_model\n",
        "y_pred = svm_model.predict(X_test)\n",
        "accuracy_score(y_test, y_pred)\n",
        "\n"
      ],
      "metadata": {
        "colab": {
          "base_uri": "https://localhost:8080/"
        },
        "id": "bgAFSb1gWlyO",
        "outputId": "24218334-ffe2-494b-c551-c30d90feec43"
      },
      "execution_count": 72,
      "outputs": [
        {
          "output_type": "execute_result",
          "data": {
            "text/plain": [
              "0.94"
            ]
          },
          "metadata": {},
          "execution_count": 72
        }
      ]
    },
    {
      "cell_type": "code",
      "source": [
        "from sklearn.tree import plot_tree"
      ],
      "metadata": {
        "id": "HIVp1lloX2Y-"
      },
      "execution_count": 83,
      "outputs": []
    },
    {
      "cell_type": "code",
      "source": [
        "from sklearn.tree import DecisionTreeClassifier\n",
        "tree_model=DecisionTreeClassifier()\n",
        "tree_model.fit(X_train,y_train)\n",
        "y_tree=model1.predict(X_test)\n",
        "plot_tree(tree_model,filled=True)"
      ],
      "metadata": {
        "colab": {
          "base_uri": "https://localhost:8080/",
          "height": 1000
        },
        "id": "3zjsgykVYIPM",
        "outputId": "86556178-1760-49e4-e1b9-030a1be5a6de"
      },
      "execution_count": 91,
      "outputs": [
        {
          "output_type": "execute_result",
          "data": {
            "text/plain": [
              "[Text(0.8363636363636363, 0.9705882352941176, 'x[93] <= 0.5\\ngini = 0.284\\nsamples = 350\\nvalue = [290, 60]'),\n",
              " Text(0.8, 0.9117647058823529, 'x[310] <= 0.5\\ngini = 0.225\\nsamples = 333\\nvalue = [290, 43]'),\n",
              " Text(0.6727272727272727, 0.8529411764705882, 'x[128] <= 0.5\\ngini = 0.134\\nsamples = 291\\nvalue = [270, 21]'),\n",
              " Text(0.6, 0.7941176470588235, 'x[51] <= 0.5\\ngini = 0.1\\nsamples = 283\\nvalue = [268, 15]'),\n",
              " Text(0.5636363636363636, 0.7352941176470589, 'x[501] <= 0.5\\ngini = 0.088\\nsamples = 281\\nvalue = [268, 13]'),\n",
              " Text(0.5272727272727272, 0.6764705882352942, 'x[596] <= 0.5\\ngini = 0.076\\nsamples = 279\\nvalue = [268, 11]'),\n",
              " Text(0.45454545454545453, 0.6176470588235294, 'x[388] <= 0.5\\ngini = 0.063\\nsamples = 276\\nvalue = [267, 9]'),\n",
              " Text(0.41818181818181815, 0.5588235294117647, 'x[460] <= 0.5\\ngini = 0.056\\nsamples = 275\\nvalue = [267, 8]'),\n",
              " Text(0.38181818181818183, 0.5, 'x[664] <= 0.5\\ngini = 0.05\\nsamples = 274\\nvalue = [267, 7]'),\n",
              " Text(0.34545454545454546, 0.4411764705882353, 'x[56] <= 0.5\\ngini = 0.043\\nsamples = 273\\nvalue = [267, 6]'),\n",
              " Text(0.3090909090909091, 0.38235294117647056, 'x[132] <= 0.5\\ngini = 0.036\\nsamples = 272\\nvalue = [267, 5]'),\n",
              " Text(0.2727272727272727, 0.3235294117647059, 'x[105] <= 0.5\\ngini = 0.029\\nsamples = 271\\nvalue = [267, 4]'),\n",
              " Text(0.23636363636363636, 0.2647058823529412, 'x[144] <= 0.5\\ngini = 0.022\\nsamples = 270\\nvalue = [267, 3]'),\n",
              " Text(0.14545454545454545, 0.20588235294117646, 'x[522] <= 0.5\\ngini = 0.015\\nsamples = 268\\nvalue = [266, 2]'),\n",
              " Text(0.07272727272727272, 0.14705882352941177, 'x[458] <= 0.5\\ngini = 0.007\\nsamples = 266\\nvalue = [265, 1]'),\n",
              " Text(0.03636363636363636, 0.08823529411764706, 'gini = 0.0\\nsamples = 262\\nvalue = [262, 0]'),\n",
              " Text(0.10909090909090909, 0.08823529411764706, 'x[162] <= 0.5\\ngini = 0.375\\nsamples = 4\\nvalue = [3, 1]'),\n",
              " Text(0.07272727272727272, 0.029411764705882353, 'gini = 0.0\\nsamples = 3\\nvalue = [3, 0]'),\n",
              " Text(0.14545454545454545, 0.029411764705882353, 'gini = 0.0\\nsamples = 1\\nvalue = [0, 1]'),\n",
              " Text(0.21818181818181817, 0.14705882352941177, 'x[0] <= 4.062\\ngini = 0.5\\nsamples = 2\\nvalue = [1, 1]'),\n",
              " Text(0.18181818181818182, 0.08823529411764706, 'gini = 0.0\\nsamples = 1\\nvalue = [1, 0]'),\n",
              " Text(0.2545454545454545, 0.08823529411764706, 'gini = 0.0\\nsamples = 1\\nvalue = [0, 1]'),\n",
              " Text(0.32727272727272727, 0.20588235294117646, 'x[0] <= 4.688\\ngini = 0.5\\nsamples = 2\\nvalue = [1, 1]'),\n",
              " Text(0.2909090909090909, 0.14705882352941177, 'gini = 0.0\\nsamples = 1\\nvalue = [0, 1]'),\n",
              " Text(0.36363636363636365, 0.14705882352941177, 'gini = 0.0\\nsamples = 1\\nvalue = [1, 0]'),\n",
              " Text(0.3090909090909091, 0.2647058823529412, 'gini = 0.0\\nsamples = 1\\nvalue = [0, 1]'),\n",
              " Text(0.34545454545454546, 0.3235294117647059, 'gini = 0.0\\nsamples = 1\\nvalue = [0, 1]'),\n",
              " Text(0.38181818181818183, 0.38235294117647056, 'gini = 0.0\\nsamples = 1\\nvalue = [0, 1]'),\n",
              " Text(0.41818181818181815, 0.4411764705882353, 'gini = 0.0\\nsamples = 1\\nvalue = [0, 1]'),\n",
              " Text(0.45454545454545453, 0.5, 'gini = 0.0\\nsamples = 1\\nvalue = [0, 1]'),\n",
              " Text(0.4909090909090909, 0.5588235294117647, 'gini = 0.0\\nsamples = 1\\nvalue = [0, 1]'),\n",
              " Text(0.6, 0.6176470588235294, 'x[244] <= 0.5\\ngini = 0.444\\nsamples = 3\\nvalue = [1, 2]'),\n",
              " Text(0.5636363636363636, 0.5588235294117647, 'gini = 0.0\\nsamples = 2\\nvalue = [0, 2]'),\n",
              " Text(0.6363636363636364, 0.5588235294117647, 'gini = 0.0\\nsamples = 1\\nvalue = [1, 0]'),\n",
              " Text(0.6, 0.6764705882352942, 'gini = 0.0\\nsamples = 2\\nvalue = [0, 2]'),\n",
              " Text(0.6363636363636364, 0.7352941176470589, 'gini = 0.0\\nsamples = 2\\nvalue = [0, 2]'),\n",
              " Text(0.7454545454545455, 0.7941176470588235, 'x[4] <= 48.5\\ngini = 0.375\\nsamples = 8\\nvalue = [2, 6]'),\n",
              " Text(0.7090909090909091, 0.7352941176470589, 'x[62] <= 0.5\\ngini = 0.444\\nsamples = 3\\nvalue = [2, 1]'),\n",
              " Text(0.6727272727272727, 0.6764705882352942, 'gini = 0.0\\nsamples = 2\\nvalue = [2, 0]'),\n",
              " Text(0.7454545454545455, 0.6764705882352942, 'gini = 0.0\\nsamples = 1\\nvalue = [0, 1]'),\n",
              " Text(0.7818181818181819, 0.7352941176470589, 'gini = 0.0\\nsamples = 5\\nvalue = [0, 5]'),\n",
              " Text(0.9272727272727272, 0.8529411764705882, 'x[564] <= 0.5\\ngini = 0.499\\nsamples = 42\\nvalue = [20, 22]'),\n",
              " Text(0.8909090909090909, 0.7941176470588235, 'x[21] <= 0.5\\ngini = 0.366\\nsamples = 29\\nvalue = [7, 22]'),\n",
              " Text(0.8545454545454545, 0.7352941176470589, 'x[71] <= 0.5\\ngini = 0.26\\nsamples = 26\\nvalue = [4, 22]'),\n",
              " Text(0.8181818181818182, 0.6764705882352942, 'gini = 0.0\\nsamples = 20\\nvalue = [0, 20]'),\n",
              " Text(0.8909090909090909, 0.6764705882352942, 'x[0] <= 4.062\\ngini = 0.444\\nsamples = 6\\nvalue = [4, 2]'),\n",
              " Text(0.8545454545454545, 0.6176470588235294, 'gini = 0.0\\nsamples = 2\\nvalue = [0, 2]'),\n",
              " Text(0.9272727272727272, 0.6176470588235294, 'gini = 0.0\\nsamples = 4\\nvalue = [4, 0]'),\n",
              " Text(0.9272727272727272, 0.7352941176470589, 'gini = 0.0\\nsamples = 3\\nvalue = [3, 0]'),\n",
              " Text(0.9636363636363636, 0.7941176470588235, 'gini = 0.0\\nsamples = 13\\nvalue = [13, 0]'),\n",
              " Text(0.8727272727272727, 0.9117647058823529, 'gini = 0.0\\nsamples = 17\\nvalue = [0, 17]')]"
            ]
          },
          "metadata": {},
          "execution_count": 91
        },
        {
          "output_type": "display_data",
          "data": {
            "text/plain": [
              "<Figure size 640x480 with 1 Axes>"
            ],
            "image/png": "[encoded data removed]"
          },
          "metadata": {}
        }
      ]
    },
    {
      "cell_type": "code",
      "source": [
        "\n",
        "from sklearn.ensemble import AdaBoostClassifier\n",
        "\n",
        "ada_model = AdaBoostClassifier(n_estimators=50, random_state=42)\n",
        "ada_model.fit(X_train, y_train)\n",
        "\n",
        "y_pred = ada_model.predict(X_test)\n",
        "accuracy = accuracy_score(y_test, y_pred)\n",
        "print(\"Accuracy:\", accuracy)\n",
        "print(classification_report(y_test, y_pred))\n"
      ],
      "metadata": {
        "colab": {
          "base_uri": "https://localhost:8080/"
        },
        "id": "Hi8cuZCjYoVV",
        "outputId": "5aaa6c6e-2a03-4037-d296-76b49ff6a028"
      },
      "execution_count": 92,
      "outputs": [
        {
          "output_type": "stream",
          "name": "stdout",
          "text": [
            "Accuracy: 0.9333333333333333\n",
            "              precision    recall  f1-score   support\n",
            "\n",
            "         0.0       0.95      0.97      0.96       122\n",
            "         1.0       0.85      0.79      0.81        28\n",
            "\n",
            "    accuracy                           0.93       150\n",
            "   macro avg       0.90      0.88      0.89       150\n",
            "weighted avg       0.93      0.93      0.93       150\n",
            "\n"
          ]
        }
      ]
    },
    {
      "cell_type": "code",
      "source": [
        "from sklearn.cluster import KMeans\n",
        "kmeans = KMeans(n_clusters = 3)\n",
        "k_fit = kmeans.fit(X_test)\n"
      ],
      "metadata": {
        "id": "mc2mQ93NalhG"
      },
      "execution_count": 97,
      "outputs": []
    },
    {
      "cell_type": "code",
      "source": [
        "import matplotlib.pyplot as plt\n",
        "sns.scatterplot(x=\"calories\", y=\"protein\", hue=\"kumeler\", data=epicurious)\n",
        "plt.show()\n"
      ],
      "metadata": {
        "colab": {
          "base_uri": "https://localhost:8080/",
          "height": 458
        },
        "id": "_TdyRYh_a1z7",
        "outputId": "593ca2fe-3eb0-4eb3-cbb4-74c6e574dfee"
      },
      "execution_count": 98,
      "outputs": [
        {
          "output_type": "display_data",
          "data": {
            "text/plain": [
              "<Figure size 640x480 with 1 Axes>"
            ],
            "image/png": "[encoded data removed]"
          },
          "metadata": {}
        }
      ]
    },
    {
      "cell_type": "code",
      "source": [
        "import tensorflow as tf\n",
        "from tensorflow import keras\n",
        "from tensorflow.keras import layers\n",
        "\n",
        "# Define the model\n",
        "model = keras.Sequential([\n",
        "    layers.Dense(64, activation='relu', input_shape=(X_train.shape[1],)),\n",
        "    layers.Dense(32, activation='relu'),\n",
        "    layers.Dense(1, activation='sigmoid')\n",
        "])\n",
        "\n",
        "# Compile the model\n",
        "model.compile(optimizer='adam',\n",
        "              loss='binary_crossentropy',\n",
        "              metrics=['accuracy'])\n",
        "\n",
        "# Train the model\n",
        "model.fit(X_train, y_train, epochs=10, batch_size=32)\n",
        "\n",
        "# Evaluate the model\n",
        "loss, accuracy = model.evaluate(X_test, y_test)\n",
        "print('Test accuracy:', accuracy)\n",
        "\n",
        "# Make predictions\n",
        "y_pred = model.predict(X_test)\n",
        "y_pred_classes = (y_pred > 0.5).astype(int)\n",
        "\n",
        "# Print classification report\n",
        "print(classification_report(y_test, y_pred_classes))\n",
        "model.summary()"
      ],
      "metadata": {
        "colab": {
          "base_uri": "https://localhost:8080/",
          "height": 851
        },
        "id": "fdh62U85byt6",
        "outputId": "47d6761a-81b4-40c5-9ab5-9a32eb939c3c"
      },
      "execution_count": 102,
      "outputs": [
        {
          "output_type": "stream",
          "name": "stdout",
          "text": [
            "Epoch 1/10\n",
            "\u001b[1m11/11\u001b[0m \u001b[32m━━━━━━━━━━━━━━━━━━━━\u001b[0m\u001b[37m\u001b[0m \u001b[1m1s\u001b[0m 3ms/step - accuracy: 0.7054 - loss: 0.7684\n",
            "Epoch 2/10\n",
            "\u001b[1m11/11\u001b[0m \u001b[32m━━━━━━━━━━━━━━━━━━━━\u001b[0m\u001b[37m\u001b[0m \u001b[1m0s\u001b[0m 3ms/step - accuracy: 0.8074 - loss: 0.4163 \n",
            "Epoch 3/10\n",
            "\u001b[1m11/11\u001b[0m \u001b[32m━━━━━━━━━━━━━━━━━━━━\u001b[0m\u001b[37m\u001b[0m \u001b[1m0s\u001b[0m 3ms/step - accuracy: 0.8869 - loss: 0.3385 \n",
            "Epoch 4/10\n",
            "\u001b[1m11/11\u001b[0m \u001b[32m━━━━━━━━━━━━━━━━━━━━\u001b[0m\u001b[37m\u001b[0m \u001b[1m0s\u001b[0m 4ms/step - accuracy: 0.8914 - loss: 0.4213  \n",
            "Epoch 5/10\n",
            "\u001b[1m11/11\u001b[0m \u001b[32m━━━━━━━━━━━━━━━━━━━━\u001b[0m\u001b[37m\u001b[0m \u001b[1m0s\u001b[0m 4ms/step - accuracy: 0.9327 - loss: 0.3063 \n",
            "Epoch 6/10\n",
            "\u001b[1m11/11\u001b[0m \u001b[32m━━━━━━━━━━━━━━━━━━━━\u001b[0m\u001b[37m\u001b[0m \u001b[1m0s\u001b[0m 4ms/step - accuracy: 0.9307 - loss: 0.2713 \n",
            "Epoch 7/10\n",
            "\u001b[1m11/11\u001b[0m \u001b[32m━━━━━━━━━━━━━━━━━━━━\u001b[0m\u001b[37m\u001b[0m \u001b[1m0s\u001b[0m 4ms/step - accuracy: 0.9081 - loss: 0.2746 \n",
            "Epoch 8/10\n",
            "\u001b[1m11/11\u001b[0m \u001b[32m━━━━━━━━━━━━━━━━━━━━\u001b[0m\u001b[37m\u001b[0m \u001b[1m0s\u001b[0m 4ms/step - accuracy: 0.9255 - loss: 0.3432  \n",
            "Epoch 9/10\n",
            "\u001b[1m11/11\u001b[0m \u001b[32m━━━━━━━━━━━━━━━━━━━━\u001b[0m\u001b[37m\u001b[0m \u001b[1m0s\u001b[0m 4ms/step - accuracy: 0.9306 - loss: 0.2017 \n",
            "Epoch 10/10\n",
            "\u001b[1m11/11\u001b[0m \u001b[32m━━━━━━━━━━━━━━━━━━━━\u001b[0m\u001b[37m\u001b[0m \u001b[1m0s\u001b[0m 3ms/step - accuracy: 0.9224 - loss: 0.2171 \n",
            "\u001b[1m5/5\u001b[0m \u001b[32m━━━━━━━━━━━━━━━━━━━━\u001b[0m\u001b[37m\u001b[0m \u001b[1m0s\u001b[0m 4ms/step - accuracy: 0.9340 - loss: 0.2236  \n",
            "Test accuracy: 0.9399999976158142\n"
          ]
        },
        {
          "output_type": "stream",
          "name": "stderr",
          "text": [
            "WARNING:tensorflow:5 out of the last 11 calls to <function TensorFlowTrainer.make_predict_function.<locals>.one_step_on_data_distributed at 0x7a8028776e60> triggered tf.function retracing. Tracing is expensive and the excessive number of tracings could be due to (1) creating @tf.function repeatedly in a loop, (2) passing tensors with different shapes, (3) passing Python objects instead of tensors. For (1), please define your @tf.function outside of the loop. For (2), @tf.function has reduce_retracing=True option that can avoid unnecessary retracing. For (3), please refer to https://www.tensorflow.org/guide/function#controlling_retracing and https://www.tensorflow.org/api_docs/python/tf/function for  more details.\n"
          ]
        },
        {
          "output_type": "stream",
          "name": "stdout",
          "text": [
            "\r\u001b[1m1/5\u001b[0m \u001b[32m━━━━\u001b[0m\u001b[37m━━━━━━━━━━━━━━━━\u001b[0m \u001b[1m0s\u001b[0m 87ms/step"
          ]
        },
        {
          "output_type": "stream",
          "name": "stderr",
          "text": [
            "WARNING:tensorflow:5 out of the last 11 calls to <function TensorFlowTrainer.make_predict_function.<locals>.one_step_on_data_distributed at 0x7a8028776e60> triggered tf.function retracing. Tracing is expensive and the excessive number of tracings could be due to (1) creating @tf.function repeatedly in a loop, (2) passing tensors with different shapes, (3) passing Python objects instead of tensors. For (1), please define your @tf.function outside of the loop. For (2), @tf.function has reduce_retracing=True option that can avoid unnecessary retracing. For (3), please refer to https://www.tensorflow.org/guide/function#controlling_retracing and https://www.tensorflow.org/api_docs/python/tf/function for  more details.\n"
          ]
        },
        {
          "output_type": "stream",
          "name": "stdout",
          "text": [
            "\u001b[1m5/5\u001b[0m \u001b[32m━━━━━━━━━━━━━━━━━━━━\u001b[0m\u001b[37m\u001b[0m \u001b[1m0s\u001b[0m 17ms/step\n",
            "              precision    recall  f1-score   support\n",
            "\n",
            "         0.0       0.97      0.96      0.96       122\n",
            "         1.0       0.83      0.86      0.84        28\n",
            "\n",
            "    accuracy                           0.94       150\n",
            "   macro avg       0.90      0.91      0.90       150\n",
            "weighted avg       0.94      0.94      0.94       150\n",
            "\n"
          ]
        },
        {
          "output_type": "display_data",
          "data": {
            "text/plain": [
              "\u001b[1mModel: \"sequential_4\"\u001b[0m\n"
            ],
            "text/html": [
              "<pre style=\"white-space:pre;overflow-x:auto;line-height:normal;font-family:Menlo,'DejaVu Sans Mono',consolas,'Courier New',monospace\"><span style=\"font-weight: bold\">Model: \"sequential_4\"</span>\n",
              "</pre>\n"
            ]
          },
          "metadata": {}
        },
        {
          "output_type": "display_data",
          "data": {
            "text/plain": [
              "┏━━━━━━━━━━━━━━━━━━━━━━━━━━━━━━━━━━━━━━┳━━━━━━━━━━━━━━━━━━━━━━━━━━━━━┳━━━━━━━━━━━━━━━━━┓\n",
              "┃\u001b[1m \u001b[0m\u001b[1mLayer (type)                        \u001b[0m\u001b[1m \u001b[0m┃\u001b[1m \u001b[0m\u001b[1mOutput Shape               \u001b[0m\u001b[1m \u001b[0m┃\u001b[1m \u001b[0m\u001b[1m        Param #\u001b[0m\u001b[1m \u001b[0m┃\n",
              "┡━━━━━━━━━━━━━━━━━━━━━━━━━━━━━━━━━━━━━━╇━━━━━━━━━━━━━━━━━━━━━━━━━━━━━╇━━━━━━━━━━━━━━━━━┩\n",
              "│ dense_12 (\u001b[38;5;33mDense\u001b[0m)                     │ (\u001b[38;5;45mNone\u001b[0m, \u001b[38;5;34m64\u001b[0m)                  │          \u001b[38;5;34m43,456\u001b[0m │\n",
              "├──────────────────────────────────────┼─────────────────────────────┼─────────────────┤\n",
              "│ dense_13 (\u001b[38;5;33mDense\u001b[0m)                     │ (\u001b[38;5;45mNone\u001b[0m, \u001b[38;5;34m32\u001b[0m)                  │           \u001b[38;5;34m2,080\u001b[0m │\n",
              "├──────────────────────────────────────┼─────────────────────────────┼─────────────────┤\n",
              "│ dense_14 (\u001b[38;5;33mDense\u001b[0m)                     │ (\u001b[38;5;45mNone\u001b[0m, \u001b[38;5;34m1\u001b[0m)                   │              \u001b[38;5;34m33\u001b[0m │\n",
              "└──────────────────────────────────────┴─────────────────────────────┴─────────────────┘\n"
            ],
            "text/html": [
              "<pre style=\"white-space:pre;overflow-x:auto;line-height:normal;font-family:Menlo,'DejaVu Sans Mono',consolas,'Courier New',monospace\">┏━━━━━━━━━━━━━━━━━━━━━━━━━━━━━━━━━━━━━━┳━━━━━━━━━━━━━━━━━━━━━━━━━━━━━┳━━━━━━━━━━━━━━━━━┓\n",
              "┃<span style=\"font-weight: bold\"> Layer (type)                         </span>┃<span style=\"font-weight: bold\"> Output Shape                </span>┃<span style=\"font-weight: bold\">         Param # </span>┃\n",
              "┡━━━━━━━━━━━━━━━━━━━━━━━━━━━━━━━━━━━━━━╇━━━━━━━━━━━━━━━━━━━━━━━━━━━━━╇━━━━━━━━━━━━━━━━━┩\n",
              "│ dense_12 (<span style=\"color: #0087ff; text-decoration-color: #0087ff\">Dense</span>)                     │ (<span style=\"color: #00d7ff; text-decoration-color: #00d7ff\">None</span>, <span style=\"color: #00af00; text-decoration-color: #00af00\">64</span>)                  │          <span style=\"color: #00af00; text-decoration-color: #00af00\">43,456</span> │\n",
              "├──────────────────────────────────────┼─────────────────────────────┼─────────────────┤\n",
              "│ dense_13 (<span style=\"color: #0087ff; text-decoration-color: #0087ff\">Dense</span>)                     │ (<span style=\"color: #00d7ff; text-decoration-color: #00d7ff\">None</span>, <span style=\"color: #00af00; text-decoration-color: #00af00\">32</span>)                  │           <span style=\"color: #00af00; text-decoration-color: #00af00\">2,080</span> │\n",
              "├──────────────────────────────────────┼─────────────────────────────┼─────────────────┤\n",
              "│ dense_14 (<span style=\"color: #0087ff; text-decoration-color: #0087ff\">Dense</span>)                     │ (<span style=\"color: #00d7ff; text-decoration-color: #00d7ff\">None</span>, <span style=\"color: #00af00; text-decoration-color: #00af00\">1</span>)                   │              <span style=\"color: #00af00; text-decoration-color: #00af00\">33</span> │\n",
              "└──────────────────────────────────────┴─────────────────────────────┴─────────────────┘\n",
              "</pre>\n"
            ]
          },
          "metadata": {}
        },
        {
          "output_type": "display_data",
          "data": {
            "text/plain": [
              "\u001b[1m Total params: \u001b[0m\u001b[38;5;34m136,709\u001b[0m (534.02 KB)\n"
            ],
            "text/html": [
              "<pre style=\"white-space:pre;overflow-x:auto;line-height:normal;font-family:Menlo,'DejaVu Sans Mono',consolas,'Courier New',monospace\"><span style=\"font-weight: bold\"> Total params: </span><span style=\"color: #00af00; text-decoration-color: #00af00\">136,709</span> (534.02 KB)\n",
              "</pre>\n"
            ]
          },
          "metadata": {}
        },
        {
          "output_type": "display_data",
          "data": {
            "text/plain": [
              "\u001b[1m Trainable params: \u001b[0m\u001b[38;5;34m45,569\u001b[0m (178.00 KB)\n"
            ],
            "text/html": [
              "<pre style=\"white-space:pre;overflow-x:auto;line-height:normal;font-family:Menlo,'DejaVu Sans Mono',consolas,'Courier New',monospace\"><span style=\"font-weight: bold\"> Trainable params: </span><span style=\"color: #00af00; text-decoration-color: #00af00\">45,569</span> (178.00 KB)\n",
              "</pre>\n"
            ]
          },
          "metadata": {}
        },
        {
          "output_type": "display_data",
          "data": {
            "text/plain": [
              "\u001b[1m Non-trainable params: \u001b[0m\u001b[38;5;34m0\u001b[0m (0.00 B)\n"
            ],
            "text/html": [
              "<pre style=\"white-space:pre;overflow-x:auto;line-height:normal;font-family:Menlo,'DejaVu Sans Mono',consolas,'Courier New',monospace\"><span style=\"font-weight: bold\"> Non-trainable params: </span><span style=\"color: #00af00; text-decoration-color: #00af00\">0</span> (0.00 B)\n",
              "</pre>\n"
            ]
          },
          "metadata": {}
        },
        {
          "output_type": "display_data",
          "data": {
            "text/plain": [
              "\u001b[1m Optimizer params: \u001b[0m\u001b[38;5;34m91,140\u001b[0m (356.02 KB)\n"
            ],
            "text/html": [
              "<pre style=\"white-space:pre;overflow-x:auto;line-height:normal;font-family:Menlo,'DejaVu Sans Mono',consolas,'Courier New',monospace\"><span style=\"font-weight: bold\"> Optimizer params: </span><span style=\"color: #00af00; text-decoration-color: #00af00\">91,140</span> (356.02 KB)\n",
              "</pre>\n"
            ]
          },
          "metadata": {}
        }
      ]
    },
    {
      "cell_type": "code",
      "source": [],
      "metadata": {
        "id": "1MWY4t4ne_xh"
      },
      "execution_count": null,
      "outputs": []
    }
  ]
}